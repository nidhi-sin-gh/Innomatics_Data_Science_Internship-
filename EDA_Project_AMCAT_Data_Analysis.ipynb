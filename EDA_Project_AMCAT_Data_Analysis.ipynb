{
 "cells": [
  {
   "cell_type": "markdown",
   "id": "c26aec19",
   "metadata": {},
   "source": [
    "# EDA Project AMCAT Data Analysis"
   ]
  },
  {
   "cell_type": "code",
   "execution_count": 1,
   "id": "334dee03",
   "metadata": {},
   "outputs": [],
   "source": [
    "import pandas as pd\n",
    "import numpy as np"
   ]
  },
  {
   "cell_type": "code",
   "execution_count": 2,
   "id": "384d512d",
   "metadata": {},
   "outputs": [
    {
     "name": "stderr",
     "output_type": "stream",
     "text": [
      "C:\\Users\\ASUS\\anaconda3\\lib\\site-packages\\scipy\\__init__.py:146: UserWarning: A NumPy version >=1.16.5 and <1.23.0 is required for this version of SciPy (detected version 1.26.2\n",
      "  warnings.warn(f\"A NumPy version >={np_minversion} and <{np_maxversion}\"\n"
     ]
    }
   ],
   "source": [
    "import matplotlib.pyplot as plt\n",
    "import seaborn as sns"
   ]
  },
  {
   "cell_type": "code",
   "execution_count": 3,
   "id": "79cf9a33",
   "metadata": {},
   "outputs": [],
   "source": [
    "import datetime as dt"
   ]
  },
  {
   "cell_type": "code",
   "execution_count": 4,
   "id": "f74a1383",
   "metadata": {},
   "outputs": [],
   "source": [
    "import pandas as pd\n",
    "import numpy as np\n",
    "import matplotlib.pyplot as plt\n",
    "import seaborn as sns\n",
    "import warnings\n",
    "warnings.filterwarnings(\"ignore\")\n",
    "sns.set(style=\"whitegrid\", color_codes=True)\n",
    "pd.set_option('display.max_columns', None)"
   ]
  },
  {
   "cell_type": "code",
   "execution_count": 5,
   "id": "b99de667",
   "metadata": {},
   "outputs": [],
   "source": [
    "raw = pd.read_csv('data.csv')"
   ]
  },
  {
   "cell_type": "code",
   "execution_count": 6,
   "id": "7d1f6cce",
   "metadata": {},
   "outputs": [
    {
     "data": {
      "text/html": [
       "<div>\n",
       "<style scoped>\n",
       "    .dataframe tbody tr th:only-of-type {\n",
       "        vertical-align: middle;\n",
       "    }\n",
       "\n",
       "    .dataframe tbody tr th {\n",
       "        vertical-align: top;\n",
       "    }\n",
       "\n",
       "    .dataframe thead th {\n",
       "        text-align: right;\n",
       "    }\n",
       "</style>\n",
       "<table border=\"1\" class=\"dataframe\">\n",
       "  <thead>\n",
       "    <tr style=\"text-align: right;\">\n",
       "      <th></th>\n",
       "      <th>Unnamed: 0</th>\n",
       "      <th>ID</th>\n",
       "      <th>Salary</th>\n",
       "      <th>DOJ</th>\n",
       "      <th>DOL</th>\n",
       "      <th>Designation</th>\n",
       "      <th>JobCity</th>\n",
       "      <th>Gender</th>\n",
       "      <th>DOB</th>\n",
       "      <th>10percentage</th>\n",
       "      <th>10board</th>\n",
       "      <th>12graduation</th>\n",
       "      <th>12percentage</th>\n",
       "      <th>12board</th>\n",
       "      <th>CollegeID</th>\n",
       "      <th>CollegeTier</th>\n",
       "      <th>Degree</th>\n",
       "      <th>Specialization</th>\n",
       "      <th>collegeGPA</th>\n",
       "      <th>CollegeCityID</th>\n",
       "      <th>CollegeCityTier</th>\n",
       "      <th>CollegeState</th>\n",
       "      <th>GraduationYear</th>\n",
       "      <th>English</th>\n",
       "      <th>Logical</th>\n",
       "      <th>Quant</th>\n",
       "      <th>Domain</th>\n",
       "      <th>ComputerProgramming</th>\n",
       "      <th>ElectronicsAndSemicon</th>\n",
       "      <th>ComputerScience</th>\n",
       "      <th>MechanicalEngg</th>\n",
       "      <th>ElectricalEngg</th>\n",
       "      <th>TelecomEngg</th>\n",
       "      <th>CivilEngg</th>\n",
       "      <th>conscientiousness</th>\n",
       "      <th>agreeableness</th>\n",
       "      <th>extraversion</th>\n",
       "      <th>nueroticism</th>\n",
       "      <th>openess_to_experience</th>\n",
       "    </tr>\n",
       "  </thead>\n",
       "  <tbody>\n",
       "    <tr>\n",
       "      <th>0</th>\n",
       "      <td>train</td>\n",
       "      <td>203097</td>\n",
       "      <td>420000.0</td>\n",
       "      <td>6/1/12 0:00</td>\n",
       "      <td>present</td>\n",
       "      <td>senior quality engineer</td>\n",
       "      <td>Bangalore</td>\n",
       "      <td>f</td>\n",
       "      <td>2/19/90 0:00</td>\n",
       "      <td>84.3</td>\n",
       "      <td>board ofsecondary education,ap</td>\n",
       "      <td>2007</td>\n",
       "      <td>95.8</td>\n",
       "      <td>board of intermediate education,ap</td>\n",
       "      <td>1141</td>\n",
       "      <td>2</td>\n",
       "      <td>B.Tech/B.E.</td>\n",
       "      <td>computer engineering</td>\n",
       "      <td>78.00</td>\n",
       "      <td>1141</td>\n",
       "      <td>0</td>\n",
       "      <td>Andhra Pradesh</td>\n",
       "      <td>2011</td>\n",
       "      <td>515</td>\n",
       "      <td>585</td>\n",
       "      <td>525</td>\n",
       "      <td>0.635979</td>\n",
       "      <td>445</td>\n",
       "      <td>-1</td>\n",
       "      <td>-1</td>\n",
       "      <td>-1</td>\n",
       "      <td>-1</td>\n",
       "      <td>-1</td>\n",
       "      <td>-1</td>\n",
       "      <td>0.9737</td>\n",
       "      <td>0.8128</td>\n",
       "      <td>0.5269</td>\n",
       "      <td>1.35490</td>\n",
       "      <td>-0.4455</td>\n",
       "    </tr>\n",
       "    <tr>\n",
       "      <th>1</th>\n",
       "      <td>train</td>\n",
       "      <td>579905</td>\n",
       "      <td>500000.0</td>\n",
       "      <td>9/1/13 0:00</td>\n",
       "      <td>present</td>\n",
       "      <td>assistant manager</td>\n",
       "      <td>Indore</td>\n",
       "      <td>m</td>\n",
       "      <td>10/4/89 0:00</td>\n",
       "      <td>85.4</td>\n",
       "      <td>cbse</td>\n",
       "      <td>2007</td>\n",
       "      <td>85.0</td>\n",
       "      <td>cbse</td>\n",
       "      <td>5807</td>\n",
       "      <td>2</td>\n",
       "      <td>B.Tech/B.E.</td>\n",
       "      <td>electronics and communication engineering</td>\n",
       "      <td>70.06</td>\n",
       "      <td>5807</td>\n",
       "      <td>0</td>\n",
       "      <td>Madhya Pradesh</td>\n",
       "      <td>2012</td>\n",
       "      <td>695</td>\n",
       "      <td>610</td>\n",
       "      <td>780</td>\n",
       "      <td>0.960603</td>\n",
       "      <td>-1</td>\n",
       "      <td>466</td>\n",
       "      <td>-1</td>\n",
       "      <td>-1</td>\n",
       "      <td>-1</td>\n",
       "      <td>-1</td>\n",
       "      <td>-1</td>\n",
       "      <td>-0.7335</td>\n",
       "      <td>0.3789</td>\n",
       "      <td>1.2396</td>\n",
       "      <td>-0.10760</td>\n",
       "      <td>0.8637</td>\n",
       "    </tr>\n",
       "    <tr>\n",
       "      <th>2</th>\n",
       "      <td>train</td>\n",
       "      <td>810601</td>\n",
       "      <td>325000.0</td>\n",
       "      <td>6/1/14 0:00</td>\n",
       "      <td>present</td>\n",
       "      <td>systems engineer</td>\n",
       "      <td>Chennai</td>\n",
       "      <td>f</td>\n",
       "      <td>8/3/92 0:00</td>\n",
       "      <td>85.0</td>\n",
       "      <td>cbse</td>\n",
       "      <td>2010</td>\n",
       "      <td>68.2</td>\n",
       "      <td>cbse</td>\n",
       "      <td>64</td>\n",
       "      <td>2</td>\n",
       "      <td>B.Tech/B.E.</td>\n",
       "      <td>information technology</td>\n",
       "      <td>70.00</td>\n",
       "      <td>64</td>\n",
       "      <td>0</td>\n",
       "      <td>Uttar Pradesh</td>\n",
       "      <td>2014</td>\n",
       "      <td>615</td>\n",
       "      <td>545</td>\n",
       "      <td>370</td>\n",
       "      <td>0.450877</td>\n",
       "      <td>395</td>\n",
       "      <td>-1</td>\n",
       "      <td>-1</td>\n",
       "      <td>-1</td>\n",
       "      <td>-1</td>\n",
       "      <td>-1</td>\n",
       "      <td>-1</td>\n",
       "      <td>0.2718</td>\n",
       "      <td>1.7109</td>\n",
       "      <td>0.1637</td>\n",
       "      <td>-0.86820</td>\n",
       "      <td>0.6721</td>\n",
       "    </tr>\n",
       "    <tr>\n",
       "      <th>3</th>\n",
       "      <td>train</td>\n",
       "      <td>267447</td>\n",
       "      <td>1100000.0</td>\n",
       "      <td>7/1/11 0:00</td>\n",
       "      <td>present</td>\n",
       "      <td>senior software engineer</td>\n",
       "      <td>Gurgaon</td>\n",
       "      <td>m</td>\n",
       "      <td>12/5/89 0:00</td>\n",
       "      <td>85.6</td>\n",
       "      <td>cbse</td>\n",
       "      <td>2007</td>\n",
       "      <td>83.6</td>\n",
       "      <td>cbse</td>\n",
       "      <td>6920</td>\n",
       "      <td>1</td>\n",
       "      <td>B.Tech/B.E.</td>\n",
       "      <td>computer engineering</td>\n",
       "      <td>74.64</td>\n",
       "      <td>6920</td>\n",
       "      <td>1</td>\n",
       "      <td>Delhi</td>\n",
       "      <td>2011</td>\n",
       "      <td>635</td>\n",
       "      <td>585</td>\n",
       "      <td>625</td>\n",
       "      <td>0.974396</td>\n",
       "      <td>615</td>\n",
       "      <td>-1</td>\n",
       "      <td>-1</td>\n",
       "      <td>-1</td>\n",
       "      <td>-1</td>\n",
       "      <td>-1</td>\n",
       "      <td>-1</td>\n",
       "      <td>0.0464</td>\n",
       "      <td>0.3448</td>\n",
       "      <td>-0.3440</td>\n",
       "      <td>-0.40780</td>\n",
       "      <td>-0.9194</td>\n",
       "    </tr>\n",
       "    <tr>\n",
       "      <th>4</th>\n",
       "      <td>train</td>\n",
       "      <td>343523</td>\n",
       "      <td>200000.0</td>\n",
       "      <td>3/1/14 0:00</td>\n",
       "      <td>3/1/15 0:00</td>\n",
       "      <td>get</td>\n",
       "      <td>Manesar</td>\n",
       "      <td>m</td>\n",
       "      <td>2/27/91 0:00</td>\n",
       "      <td>78.0</td>\n",
       "      <td>cbse</td>\n",
       "      <td>2008</td>\n",
       "      <td>76.8</td>\n",
       "      <td>cbse</td>\n",
       "      <td>11368</td>\n",
       "      <td>2</td>\n",
       "      <td>B.Tech/B.E.</td>\n",
       "      <td>electronics and communication engineering</td>\n",
       "      <td>73.90</td>\n",
       "      <td>11368</td>\n",
       "      <td>0</td>\n",
       "      <td>Uttar Pradesh</td>\n",
       "      <td>2012</td>\n",
       "      <td>545</td>\n",
       "      <td>625</td>\n",
       "      <td>465</td>\n",
       "      <td>0.124502</td>\n",
       "      <td>-1</td>\n",
       "      <td>233</td>\n",
       "      <td>-1</td>\n",
       "      <td>-1</td>\n",
       "      <td>-1</td>\n",
       "      <td>-1</td>\n",
       "      <td>-1</td>\n",
       "      <td>-0.8810</td>\n",
       "      <td>-0.2793</td>\n",
       "      <td>-1.0697</td>\n",
       "      <td>0.09163</td>\n",
       "      <td>-0.1295</td>\n",
       "    </tr>\n",
       "  </tbody>\n",
       "</table>\n",
       "</div>"
      ],
      "text/plain": [
       "  Unnamed: 0      ID     Salary          DOJ          DOL  \\\n",
       "0      train  203097   420000.0  6/1/12 0:00      present   \n",
       "1      train  579905   500000.0  9/1/13 0:00      present   \n",
       "2      train  810601   325000.0  6/1/14 0:00      present   \n",
       "3      train  267447  1100000.0  7/1/11 0:00      present   \n",
       "4      train  343523   200000.0  3/1/14 0:00  3/1/15 0:00   \n",
       "\n",
       "                Designation    JobCity Gender           DOB  10percentage  \\\n",
       "0   senior quality engineer  Bangalore      f  2/19/90 0:00          84.3   \n",
       "1         assistant manager     Indore      m  10/4/89 0:00          85.4   \n",
       "2          systems engineer    Chennai      f   8/3/92 0:00          85.0   \n",
       "3  senior software engineer    Gurgaon      m  12/5/89 0:00          85.6   \n",
       "4                       get    Manesar      m  2/27/91 0:00          78.0   \n",
       "\n",
       "                          10board  12graduation  12percentage  \\\n",
       "0  board ofsecondary education,ap          2007          95.8   \n",
       "1                            cbse          2007          85.0   \n",
       "2                            cbse          2010          68.2   \n",
       "3                            cbse          2007          83.6   \n",
       "4                            cbse          2008          76.8   \n",
       "\n",
       "                              12board  CollegeID  CollegeTier       Degree  \\\n",
       "0  board of intermediate education,ap       1141            2  B.Tech/B.E.   \n",
       "1                                cbse       5807            2  B.Tech/B.E.   \n",
       "2                                cbse         64            2  B.Tech/B.E.   \n",
       "3                                cbse       6920            1  B.Tech/B.E.   \n",
       "4                                cbse      11368            2  B.Tech/B.E.   \n",
       "\n",
       "                              Specialization  collegeGPA  CollegeCityID  \\\n",
       "0                       computer engineering       78.00           1141   \n",
       "1  electronics and communication engineering       70.06           5807   \n",
       "2                     information technology       70.00             64   \n",
       "3                       computer engineering       74.64           6920   \n",
       "4  electronics and communication engineering       73.90          11368   \n",
       "\n",
       "   CollegeCityTier    CollegeState  GraduationYear  English  Logical  Quant  \\\n",
       "0                0  Andhra Pradesh            2011      515      585    525   \n",
       "1                0  Madhya Pradesh            2012      695      610    780   \n",
       "2                0   Uttar Pradesh            2014      615      545    370   \n",
       "3                1           Delhi            2011      635      585    625   \n",
       "4                0   Uttar Pradesh            2012      545      625    465   \n",
       "\n",
       "     Domain  ComputerProgramming  ElectronicsAndSemicon  ComputerScience  \\\n",
       "0  0.635979                  445                     -1               -1   \n",
       "1  0.960603                   -1                    466               -1   \n",
       "2  0.450877                  395                     -1               -1   \n",
       "3  0.974396                  615                     -1               -1   \n",
       "4  0.124502                   -1                    233               -1   \n",
       "\n",
       "   MechanicalEngg  ElectricalEngg  TelecomEngg  CivilEngg  conscientiousness  \\\n",
       "0              -1              -1           -1         -1             0.9737   \n",
       "1              -1              -1           -1         -1            -0.7335   \n",
       "2              -1              -1           -1         -1             0.2718   \n",
       "3              -1              -1           -1         -1             0.0464   \n",
       "4              -1              -1           -1         -1            -0.8810   \n",
       "\n",
       "   agreeableness  extraversion  nueroticism  openess_to_experience  \n",
       "0         0.8128        0.5269      1.35490                -0.4455  \n",
       "1         0.3789        1.2396     -0.10760                 0.8637  \n",
       "2         1.7109        0.1637     -0.86820                 0.6721  \n",
       "3         0.3448       -0.3440     -0.40780                -0.9194  \n",
       "4        -0.2793       -1.0697      0.09163                -0.1295  "
      ]
     },
     "execution_count": 6,
     "metadata": {},
     "output_type": "execute_result"
    }
   ],
   "source": [
    "raw.head()"
   ]
  },
  {
   "cell_type": "code",
   "execution_count": 7,
   "id": "3907c870",
   "metadata": {},
   "outputs": [
    {
     "data": {
      "text/plain": [
       "(3998, 39)"
      ]
     },
     "execution_count": 7,
     "metadata": {},
     "output_type": "execute_result"
    }
   ],
   "source": [
    "raw.shape"
   ]
  },
  {
   "cell_type": "markdown",
   "id": "8b100f42",
   "metadata": {},
   "source": [
    "There is an unnamed column and we cannot use this for data analysis. So we need to drop that\n",
    "column."
   ]
  },
  {
   "cell_type": "code",
   "execution_count": 8,
   "id": "7f5d8b83",
   "metadata": {},
   "outputs": [
    {
     "data": {
      "text/plain": [
       "array(['train'], dtype=object)"
      ]
     },
     "execution_count": 8,
     "metadata": {},
     "output_type": "execute_result"
    }
   ],
   "source": [
    "raw['Unnamed: 0'].unique()"
   ]
  },
  {
   "cell_type": "code",
   "execution_count": 9,
   "id": "1a5c4997",
   "metadata": {},
   "outputs": [],
   "source": [
    "data = raw.iloc[:,1:]"
   ]
  },
  {
   "cell_type": "code",
   "execution_count": 10,
   "id": "8d50746c",
   "metadata": {},
   "outputs": [
    {
     "data": {
      "text/html": [
       "<div>\n",
       "<style scoped>\n",
       "    .dataframe tbody tr th:only-of-type {\n",
       "        vertical-align: middle;\n",
       "    }\n",
       "\n",
       "    .dataframe tbody tr th {\n",
       "        vertical-align: top;\n",
       "    }\n",
       "\n",
       "    .dataframe thead th {\n",
       "        text-align: right;\n",
       "    }\n",
       "</style>\n",
       "<table border=\"1\" class=\"dataframe\">\n",
       "  <thead>\n",
       "    <tr style=\"text-align: right;\">\n",
       "      <th></th>\n",
       "      <th>ID</th>\n",
       "      <th>Salary</th>\n",
       "      <th>DOJ</th>\n",
       "      <th>DOL</th>\n",
       "      <th>Designation</th>\n",
       "      <th>JobCity</th>\n",
       "      <th>Gender</th>\n",
       "      <th>DOB</th>\n",
       "      <th>10percentage</th>\n",
       "      <th>10board</th>\n",
       "      <th>12graduation</th>\n",
       "      <th>12percentage</th>\n",
       "      <th>12board</th>\n",
       "      <th>CollegeID</th>\n",
       "      <th>CollegeTier</th>\n",
       "      <th>Degree</th>\n",
       "      <th>Specialization</th>\n",
       "      <th>collegeGPA</th>\n",
       "      <th>CollegeCityID</th>\n",
       "      <th>CollegeCityTier</th>\n",
       "      <th>CollegeState</th>\n",
       "      <th>GraduationYear</th>\n",
       "      <th>English</th>\n",
       "      <th>Logical</th>\n",
       "      <th>Quant</th>\n",
       "      <th>Domain</th>\n",
       "      <th>ComputerProgramming</th>\n",
       "      <th>ElectronicsAndSemicon</th>\n",
       "      <th>ComputerScience</th>\n",
       "      <th>MechanicalEngg</th>\n",
       "      <th>ElectricalEngg</th>\n",
       "      <th>TelecomEngg</th>\n",
       "      <th>CivilEngg</th>\n",
       "      <th>conscientiousness</th>\n",
       "      <th>agreeableness</th>\n",
       "      <th>extraversion</th>\n",
       "      <th>nueroticism</th>\n",
       "      <th>openess_to_experience</th>\n",
       "    </tr>\n",
       "  </thead>\n",
       "  <tbody>\n",
       "    <tr>\n",
       "      <th>0</th>\n",
       "      <td>203097</td>\n",
       "      <td>420000.0</td>\n",
       "      <td>6/1/12 0:00</td>\n",
       "      <td>present</td>\n",
       "      <td>senior quality engineer</td>\n",
       "      <td>Bangalore</td>\n",
       "      <td>f</td>\n",
       "      <td>2/19/90 0:00</td>\n",
       "      <td>84.3</td>\n",
       "      <td>board ofsecondary education,ap</td>\n",
       "      <td>2007</td>\n",
       "      <td>95.8</td>\n",
       "      <td>board of intermediate education,ap</td>\n",
       "      <td>1141</td>\n",
       "      <td>2</td>\n",
       "      <td>B.Tech/B.E.</td>\n",
       "      <td>computer engineering</td>\n",
       "      <td>78.00</td>\n",
       "      <td>1141</td>\n",
       "      <td>0</td>\n",
       "      <td>Andhra Pradesh</td>\n",
       "      <td>2011</td>\n",
       "      <td>515</td>\n",
       "      <td>585</td>\n",
       "      <td>525</td>\n",
       "      <td>0.635979</td>\n",
       "      <td>445</td>\n",
       "      <td>-1</td>\n",
       "      <td>-1</td>\n",
       "      <td>-1</td>\n",
       "      <td>-1</td>\n",
       "      <td>-1</td>\n",
       "      <td>-1</td>\n",
       "      <td>0.9737</td>\n",
       "      <td>0.8128</td>\n",
       "      <td>0.5269</td>\n",
       "      <td>1.35490</td>\n",
       "      <td>-0.4455</td>\n",
       "    </tr>\n",
       "    <tr>\n",
       "      <th>1</th>\n",
       "      <td>579905</td>\n",
       "      <td>500000.0</td>\n",
       "      <td>9/1/13 0:00</td>\n",
       "      <td>present</td>\n",
       "      <td>assistant manager</td>\n",
       "      <td>Indore</td>\n",
       "      <td>m</td>\n",
       "      <td>10/4/89 0:00</td>\n",
       "      <td>85.4</td>\n",
       "      <td>cbse</td>\n",
       "      <td>2007</td>\n",
       "      <td>85.0</td>\n",
       "      <td>cbse</td>\n",
       "      <td>5807</td>\n",
       "      <td>2</td>\n",
       "      <td>B.Tech/B.E.</td>\n",
       "      <td>electronics and communication engineering</td>\n",
       "      <td>70.06</td>\n",
       "      <td>5807</td>\n",
       "      <td>0</td>\n",
       "      <td>Madhya Pradesh</td>\n",
       "      <td>2012</td>\n",
       "      <td>695</td>\n",
       "      <td>610</td>\n",
       "      <td>780</td>\n",
       "      <td>0.960603</td>\n",
       "      <td>-1</td>\n",
       "      <td>466</td>\n",
       "      <td>-1</td>\n",
       "      <td>-1</td>\n",
       "      <td>-1</td>\n",
       "      <td>-1</td>\n",
       "      <td>-1</td>\n",
       "      <td>-0.7335</td>\n",
       "      <td>0.3789</td>\n",
       "      <td>1.2396</td>\n",
       "      <td>-0.10760</td>\n",
       "      <td>0.8637</td>\n",
       "    </tr>\n",
       "    <tr>\n",
       "      <th>2</th>\n",
       "      <td>810601</td>\n",
       "      <td>325000.0</td>\n",
       "      <td>6/1/14 0:00</td>\n",
       "      <td>present</td>\n",
       "      <td>systems engineer</td>\n",
       "      <td>Chennai</td>\n",
       "      <td>f</td>\n",
       "      <td>8/3/92 0:00</td>\n",
       "      <td>85.0</td>\n",
       "      <td>cbse</td>\n",
       "      <td>2010</td>\n",
       "      <td>68.2</td>\n",
       "      <td>cbse</td>\n",
       "      <td>64</td>\n",
       "      <td>2</td>\n",
       "      <td>B.Tech/B.E.</td>\n",
       "      <td>information technology</td>\n",
       "      <td>70.00</td>\n",
       "      <td>64</td>\n",
       "      <td>0</td>\n",
       "      <td>Uttar Pradesh</td>\n",
       "      <td>2014</td>\n",
       "      <td>615</td>\n",
       "      <td>545</td>\n",
       "      <td>370</td>\n",
       "      <td>0.450877</td>\n",
       "      <td>395</td>\n",
       "      <td>-1</td>\n",
       "      <td>-1</td>\n",
       "      <td>-1</td>\n",
       "      <td>-1</td>\n",
       "      <td>-1</td>\n",
       "      <td>-1</td>\n",
       "      <td>0.2718</td>\n",
       "      <td>1.7109</td>\n",
       "      <td>0.1637</td>\n",
       "      <td>-0.86820</td>\n",
       "      <td>0.6721</td>\n",
       "    </tr>\n",
       "    <tr>\n",
       "      <th>3</th>\n",
       "      <td>267447</td>\n",
       "      <td>1100000.0</td>\n",
       "      <td>7/1/11 0:00</td>\n",
       "      <td>present</td>\n",
       "      <td>senior software engineer</td>\n",
       "      <td>Gurgaon</td>\n",
       "      <td>m</td>\n",
       "      <td>12/5/89 0:00</td>\n",
       "      <td>85.6</td>\n",
       "      <td>cbse</td>\n",
       "      <td>2007</td>\n",
       "      <td>83.6</td>\n",
       "      <td>cbse</td>\n",
       "      <td>6920</td>\n",
       "      <td>1</td>\n",
       "      <td>B.Tech/B.E.</td>\n",
       "      <td>computer engineering</td>\n",
       "      <td>74.64</td>\n",
       "      <td>6920</td>\n",
       "      <td>1</td>\n",
       "      <td>Delhi</td>\n",
       "      <td>2011</td>\n",
       "      <td>635</td>\n",
       "      <td>585</td>\n",
       "      <td>625</td>\n",
       "      <td>0.974396</td>\n",
       "      <td>615</td>\n",
       "      <td>-1</td>\n",
       "      <td>-1</td>\n",
       "      <td>-1</td>\n",
       "      <td>-1</td>\n",
       "      <td>-1</td>\n",
       "      <td>-1</td>\n",
       "      <td>0.0464</td>\n",
       "      <td>0.3448</td>\n",
       "      <td>-0.3440</td>\n",
       "      <td>-0.40780</td>\n",
       "      <td>-0.9194</td>\n",
       "    </tr>\n",
       "    <tr>\n",
       "      <th>4</th>\n",
       "      <td>343523</td>\n",
       "      <td>200000.0</td>\n",
       "      <td>3/1/14 0:00</td>\n",
       "      <td>3/1/15 0:00</td>\n",
       "      <td>get</td>\n",
       "      <td>Manesar</td>\n",
       "      <td>m</td>\n",
       "      <td>2/27/91 0:00</td>\n",
       "      <td>78.0</td>\n",
       "      <td>cbse</td>\n",
       "      <td>2008</td>\n",
       "      <td>76.8</td>\n",
       "      <td>cbse</td>\n",
       "      <td>11368</td>\n",
       "      <td>2</td>\n",
       "      <td>B.Tech/B.E.</td>\n",
       "      <td>electronics and communication engineering</td>\n",
       "      <td>73.90</td>\n",
       "      <td>11368</td>\n",
       "      <td>0</td>\n",
       "      <td>Uttar Pradesh</td>\n",
       "      <td>2012</td>\n",
       "      <td>545</td>\n",
       "      <td>625</td>\n",
       "      <td>465</td>\n",
       "      <td>0.124502</td>\n",
       "      <td>-1</td>\n",
       "      <td>233</td>\n",
       "      <td>-1</td>\n",
       "      <td>-1</td>\n",
       "      <td>-1</td>\n",
       "      <td>-1</td>\n",
       "      <td>-1</td>\n",
       "      <td>-0.8810</td>\n",
       "      <td>-0.2793</td>\n",
       "      <td>-1.0697</td>\n",
       "      <td>0.09163</td>\n",
       "      <td>-0.1295</td>\n",
       "    </tr>\n",
       "  </tbody>\n",
       "</table>\n",
       "</div>"
      ],
      "text/plain": [
       "       ID     Salary          DOJ          DOL               Designation  \\\n",
       "0  203097   420000.0  6/1/12 0:00      present   senior quality engineer   \n",
       "1  579905   500000.0  9/1/13 0:00      present         assistant manager   \n",
       "2  810601   325000.0  6/1/14 0:00      present          systems engineer   \n",
       "3  267447  1100000.0  7/1/11 0:00      present  senior software engineer   \n",
       "4  343523   200000.0  3/1/14 0:00  3/1/15 0:00                       get   \n",
       "\n",
       "     JobCity Gender           DOB  10percentage  \\\n",
       "0  Bangalore      f  2/19/90 0:00          84.3   \n",
       "1     Indore      m  10/4/89 0:00          85.4   \n",
       "2    Chennai      f   8/3/92 0:00          85.0   \n",
       "3    Gurgaon      m  12/5/89 0:00          85.6   \n",
       "4    Manesar      m  2/27/91 0:00          78.0   \n",
       "\n",
       "                          10board  12graduation  12percentage  \\\n",
       "0  board ofsecondary education,ap          2007          95.8   \n",
       "1                            cbse          2007          85.0   \n",
       "2                            cbse          2010          68.2   \n",
       "3                            cbse          2007          83.6   \n",
       "4                            cbse          2008          76.8   \n",
       "\n",
       "                              12board  CollegeID  CollegeTier       Degree  \\\n",
       "0  board of intermediate education,ap       1141            2  B.Tech/B.E.   \n",
       "1                                cbse       5807            2  B.Tech/B.E.   \n",
       "2                                cbse         64            2  B.Tech/B.E.   \n",
       "3                                cbse       6920            1  B.Tech/B.E.   \n",
       "4                                cbse      11368            2  B.Tech/B.E.   \n",
       "\n",
       "                              Specialization  collegeGPA  CollegeCityID  \\\n",
       "0                       computer engineering       78.00           1141   \n",
       "1  electronics and communication engineering       70.06           5807   \n",
       "2                     information technology       70.00             64   \n",
       "3                       computer engineering       74.64           6920   \n",
       "4  electronics and communication engineering       73.90          11368   \n",
       "\n",
       "   CollegeCityTier    CollegeState  GraduationYear  English  Logical  Quant  \\\n",
       "0                0  Andhra Pradesh            2011      515      585    525   \n",
       "1                0  Madhya Pradesh            2012      695      610    780   \n",
       "2                0   Uttar Pradesh            2014      615      545    370   \n",
       "3                1           Delhi            2011      635      585    625   \n",
       "4                0   Uttar Pradesh            2012      545      625    465   \n",
       "\n",
       "     Domain  ComputerProgramming  ElectronicsAndSemicon  ComputerScience  \\\n",
       "0  0.635979                  445                     -1               -1   \n",
       "1  0.960603                   -1                    466               -1   \n",
       "2  0.450877                  395                     -1               -1   \n",
       "3  0.974396                  615                     -1               -1   \n",
       "4  0.124502                   -1                    233               -1   \n",
       "\n",
       "   MechanicalEngg  ElectricalEngg  TelecomEngg  CivilEngg  conscientiousness  \\\n",
       "0              -1              -1           -1         -1             0.9737   \n",
       "1              -1              -1           -1         -1            -0.7335   \n",
       "2              -1              -1           -1         -1             0.2718   \n",
       "3              -1              -1           -1         -1             0.0464   \n",
       "4              -1              -1           -1         -1            -0.8810   \n",
       "\n",
       "   agreeableness  extraversion  nueroticism  openess_to_experience  \n",
       "0         0.8128        0.5269      1.35490                -0.4455  \n",
       "1         0.3789        1.2396     -0.10760                 0.8637  \n",
       "2         1.7109        0.1637     -0.86820                 0.6721  \n",
       "3         0.3448       -0.3440     -0.40780                -0.9194  \n",
       "4        -0.2793       -1.0697      0.09163                -0.1295  "
      ]
     },
     "execution_count": 10,
     "metadata": {},
     "output_type": "execute_result"
    }
   ],
   "source": [
    "data.head()"
   ]
  },
  {
   "cell_type": "code",
   "execution_count": 11,
   "id": "ef5c5596",
   "metadata": {},
   "outputs": [
    {
     "name": "stdout",
     "output_type": "stream",
     "text": [
      "<class 'pandas.core.frame.DataFrame'>\n",
      "RangeIndex: 3998 entries, 0 to 3997\n",
      "Data columns (total 38 columns):\n",
      " #   Column                 Non-Null Count  Dtype  \n",
      "---  ------                 --------------  -----  \n",
      " 0   ID                     3998 non-null   int64  \n",
      " 1   Salary                 3998 non-null   float64\n",
      " 2   DOJ                    3998 non-null   object \n",
      " 3   DOL                    3998 non-null   object \n",
      " 4   Designation            3998 non-null   object \n",
      " 5   JobCity                3998 non-null   object \n",
      " 6   Gender                 3998 non-null   object \n",
      " 7   DOB                    3998 non-null   object \n",
      " 8   10percentage           3998 non-null   float64\n",
      " 9   10board                3998 non-null   object \n",
      " 10  12graduation           3998 non-null   int64  \n",
      " 11  12percentage           3998 non-null   float64\n",
      " 12  12board                3998 non-null   object \n",
      " 13  CollegeID              3998 non-null   int64  \n",
      " 14  CollegeTier            3998 non-null   int64  \n",
      " 15  Degree                 3998 non-null   object \n",
      " 16  Specialization         3998 non-null   object \n",
      " 17  collegeGPA             3998 non-null   float64\n",
      " 18  CollegeCityID          3998 non-null   int64  \n",
      " 19  CollegeCityTier        3998 non-null   int64  \n",
      " 20  CollegeState           3998 non-null   object \n",
      " 21  GraduationYear         3998 non-null   int64  \n",
      " 22  English                3998 non-null   int64  \n",
      " 23  Logical                3998 non-null   int64  \n",
      " 24  Quant                  3998 non-null   int64  \n",
      " 25  Domain                 3998 non-null   float64\n",
      " 26  ComputerProgramming    3998 non-null   int64  \n",
      " 27  ElectronicsAndSemicon  3998 non-null   int64  \n",
      " 28  ComputerScience        3998 non-null   int64  \n",
      " 29  MechanicalEngg         3998 non-null   int64  \n",
      " 30  ElectricalEngg         3998 non-null   int64  \n",
      " 31  TelecomEngg            3998 non-null   int64  \n",
      " 32  CivilEngg              3998 non-null   int64  \n",
      " 33  conscientiousness      3998 non-null   float64\n",
      " 34  agreeableness          3998 non-null   float64\n",
      " 35  extraversion           3998 non-null   float64\n",
      " 36  nueroticism            3998 non-null   float64\n",
      " 37  openess_to_experience  3998 non-null   float64\n",
      "dtypes: float64(10), int64(17), object(11)\n",
      "memory usage: 1.2+ MB\n"
     ]
    }
   ],
   "source": [
    "data.info()"
   ]
  },
  {
   "cell_type": "markdown",
   "id": "af49940c",
   "metadata": {},
   "source": [
    "**Dataset consists of :**\n",
    "\n",
    "- 27 Numerical columns:\n",
    "\n",
    "   - ID                     \n",
    "   - Salary                 \n",
    "   - 10percentage           \n",
    "   - 12graduation           \n",
    "   - 12percentage           \n",
    "   - CollegeID              \n",
    "   - CollegeTier           \n",
    "   - collegeGPA             \n",
    "   - CollegeCityID          \n",
    "   - CollegeCityTier        \n",
    "   - GraduationYear         \n",
    "   - English               \n",
    "   - Logical                 \n",
    "   - Quant                   \n",
    "   - Domain                 \n",
    "   - ComputerProgramming    \n",
    "   - ElectronicsAndSemicon  \n",
    "   - ComputerScience      \n",
    "   - MechanicalEngg      \n",
    "   - ElectricalEngg         \n",
    "   - TelecomEngg          \n",
    "   - CivilEngg             \n",
    "   - conscientiousness    \n",
    "   - agreeableness         \n",
    "   - extraversion          \n",
    "   - nueroticism           \n",
    "   - openess_to_experience  \n",
    " \n",
    "- 8 catogorical columns\n",
    "\n",
    "    - Designation           \n",
    "    - JobCity               \n",
    "    - Gender                \n",
    "    - 10board               \n",
    "    - 12board                \n",
    "    - Degree                \n",
    "    - Specialization         \n",
    "    - CollegeState           \n",
    " \n",
    "- 3 datetime\n",
    "\n",
    "    - DOJ\n",
    "    - DOL\n",
    "    - DOB"
   ]
  },
  {
   "cell_type": "code",
   "execution_count": 12,
   "id": "b5f3e385",
   "metadata": {},
   "outputs": [
    {
     "data": {
      "text/html": [
       "<div>\n",
       "<style scoped>\n",
       "    .dataframe tbody tr th:only-of-type {\n",
       "        vertical-align: middle;\n",
       "    }\n",
       "\n",
       "    .dataframe tbody tr th {\n",
       "        vertical-align: top;\n",
       "    }\n",
       "\n",
       "    .dataframe thead th {\n",
       "        text-align: right;\n",
       "    }\n",
       "</style>\n",
       "<table border=\"1\" class=\"dataframe\">\n",
       "  <thead>\n",
       "    <tr style=\"text-align: right;\">\n",
       "      <th></th>\n",
       "      <th>ID</th>\n",
       "      <th>Salary</th>\n",
       "      <th>10percentage</th>\n",
       "      <th>12graduation</th>\n",
       "      <th>12percentage</th>\n",
       "      <th>CollegeID</th>\n",
       "      <th>CollegeTier</th>\n",
       "      <th>collegeGPA</th>\n",
       "      <th>CollegeCityID</th>\n",
       "      <th>CollegeCityTier</th>\n",
       "      <th>GraduationYear</th>\n",
       "      <th>English</th>\n",
       "      <th>Logical</th>\n",
       "      <th>Quant</th>\n",
       "      <th>Domain</th>\n",
       "      <th>ComputerProgramming</th>\n",
       "      <th>ElectronicsAndSemicon</th>\n",
       "      <th>ComputerScience</th>\n",
       "      <th>MechanicalEngg</th>\n",
       "      <th>ElectricalEngg</th>\n",
       "      <th>TelecomEngg</th>\n",
       "      <th>CivilEngg</th>\n",
       "      <th>conscientiousness</th>\n",
       "      <th>agreeableness</th>\n",
       "      <th>extraversion</th>\n",
       "      <th>nueroticism</th>\n",
       "      <th>openess_to_experience</th>\n",
       "    </tr>\n",
       "  </thead>\n",
       "  <tbody>\n",
       "    <tr>\n",
       "      <th>count</th>\n",
       "      <td>3998.0</td>\n",
       "      <td>3998.0</td>\n",
       "      <td>3998.0</td>\n",
       "      <td>3998.0</td>\n",
       "      <td>3998.0</td>\n",
       "      <td>3998.0</td>\n",
       "      <td>3998.0</td>\n",
       "      <td>3998.0</td>\n",
       "      <td>3998.0</td>\n",
       "      <td>3998.0</td>\n",
       "      <td>3998.0</td>\n",
       "      <td>3998.0</td>\n",
       "      <td>3998.0</td>\n",
       "      <td>3998.0</td>\n",
       "      <td>3998.0</td>\n",
       "      <td>3998.0</td>\n",
       "      <td>3998.0</td>\n",
       "      <td>3998.0</td>\n",
       "      <td>3998.0</td>\n",
       "      <td>3998.0</td>\n",
       "      <td>3998.0</td>\n",
       "      <td>3998.0</td>\n",
       "      <td>3998.0</td>\n",
       "      <td>3998.0</td>\n",
       "      <td>3998.0</td>\n",
       "      <td>3998.0</td>\n",
       "      <td>3998.0</td>\n",
       "    </tr>\n",
       "    <tr>\n",
       "      <th>mean</th>\n",
       "      <td>663795.0</td>\n",
       "      <td>307700.0</td>\n",
       "      <td>78.0</td>\n",
       "      <td>2008.0</td>\n",
       "      <td>74.0</td>\n",
       "      <td>5157.0</td>\n",
       "      <td>2.0</td>\n",
       "      <td>71.0</td>\n",
       "      <td>5157.0</td>\n",
       "      <td>0.0</td>\n",
       "      <td>2012.0</td>\n",
       "      <td>502.0</td>\n",
       "      <td>502.0</td>\n",
       "      <td>513.0</td>\n",
       "      <td>1.0</td>\n",
       "      <td>353.0</td>\n",
       "      <td>95.0</td>\n",
       "      <td>91.0</td>\n",
       "      <td>23.0</td>\n",
       "      <td>16.0</td>\n",
       "      <td>32.0</td>\n",
       "      <td>3.0</td>\n",
       "      <td>-0.0</td>\n",
       "      <td>0.0</td>\n",
       "      <td>0.0</td>\n",
       "      <td>-0.0</td>\n",
       "      <td>-0.0</td>\n",
       "    </tr>\n",
       "    <tr>\n",
       "      <th>std</th>\n",
       "      <td>363218.0</td>\n",
       "      <td>212737.0</td>\n",
       "      <td>10.0</td>\n",
       "      <td>2.0</td>\n",
       "      <td>11.0</td>\n",
       "      <td>4802.0</td>\n",
       "      <td>0.0</td>\n",
       "      <td>8.0</td>\n",
       "      <td>4802.0</td>\n",
       "      <td>0.0</td>\n",
       "      <td>32.0</td>\n",
       "      <td>105.0</td>\n",
       "      <td>87.0</td>\n",
       "      <td>122.0</td>\n",
       "      <td>0.0</td>\n",
       "      <td>205.0</td>\n",
       "      <td>158.0</td>\n",
       "      <td>175.0</td>\n",
       "      <td>98.0</td>\n",
       "      <td>88.0</td>\n",
       "      <td>105.0</td>\n",
       "      <td>37.0</td>\n",
       "      <td>1.0</td>\n",
       "      <td>1.0</td>\n",
       "      <td>1.0</td>\n",
       "      <td>1.0</td>\n",
       "      <td>1.0</td>\n",
       "    </tr>\n",
       "    <tr>\n",
       "      <th>min</th>\n",
       "      <td>11244.0</td>\n",
       "      <td>35000.0</td>\n",
       "      <td>43.0</td>\n",
       "      <td>1995.0</td>\n",
       "      <td>40.0</td>\n",
       "      <td>2.0</td>\n",
       "      <td>1.0</td>\n",
       "      <td>6.0</td>\n",
       "      <td>2.0</td>\n",
       "      <td>0.0</td>\n",
       "      <td>0.0</td>\n",
       "      <td>180.0</td>\n",
       "      <td>195.0</td>\n",
       "      <td>120.0</td>\n",
       "      <td>-1.0</td>\n",
       "      <td>-1.0</td>\n",
       "      <td>-1.0</td>\n",
       "      <td>-1.0</td>\n",
       "      <td>-1.0</td>\n",
       "      <td>-1.0</td>\n",
       "      <td>-1.0</td>\n",
       "      <td>-1.0</td>\n",
       "      <td>-4.0</td>\n",
       "      <td>-6.0</td>\n",
       "      <td>-5.0</td>\n",
       "      <td>-3.0</td>\n",
       "      <td>-7.0</td>\n",
       "    </tr>\n",
       "    <tr>\n",
       "      <th>25%</th>\n",
       "      <td>334284.0</td>\n",
       "      <td>180000.0</td>\n",
       "      <td>72.0</td>\n",
       "      <td>2007.0</td>\n",
       "      <td>66.0</td>\n",
       "      <td>494.0</td>\n",
       "      <td>2.0</td>\n",
       "      <td>66.0</td>\n",
       "      <td>494.0</td>\n",
       "      <td>0.0</td>\n",
       "      <td>2012.0</td>\n",
       "      <td>425.0</td>\n",
       "      <td>445.0</td>\n",
       "      <td>430.0</td>\n",
       "      <td>0.0</td>\n",
       "      <td>295.0</td>\n",
       "      <td>-1.0</td>\n",
       "      <td>-1.0</td>\n",
       "      <td>-1.0</td>\n",
       "      <td>-1.0</td>\n",
       "      <td>-1.0</td>\n",
       "      <td>-1.0</td>\n",
       "      <td>-1.0</td>\n",
       "      <td>-0.0</td>\n",
       "      <td>-1.0</td>\n",
       "      <td>-1.0</td>\n",
       "      <td>-1.0</td>\n",
       "    </tr>\n",
       "    <tr>\n",
       "      <th>50%</th>\n",
       "      <td>639600.0</td>\n",
       "      <td>300000.0</td>\n",
       "      <td>79.0</td>\n",
       "      <td>2008.0</td>\n",
       "      <td>74.0</td>\n",
       "      <td>3879.0</td>\n",
       "      <td>2.0</td>\n",
       "      <td>72.0</td>\n",
       "      <td>3879.0</td>\n",
       "      <td>0.0</td>\n",
       "      <td>2013.0</td>\n",
       "      <td>500.0</td>\n",
       "      <td>505.0</td>\n",
       "      <td>515.0</td>\n",
       "      <td>1.0</td>\n",
       "      <td>415.0</td>\n",
       "      <td>-1.0</td>\n",
       "      <td>-1.0</td>\n",
       "      <td>-1.0</td>\n",
       "      <td>-1.0</td>\n",
       "      <td>-1.0</td>\n",
       "      <td>-1.0</td>\n",
       "      <td>0.0</td>\n",
       "      <td>0.0</td>\n",
       "      <td>0.0</td>\n",
       "      <td>-0.0</td>\n",
       "      <td>-0.0</td>\n",
       "    </tr>\n",
       "    <tr>\n",
       "      <th>75%</th>\n",
       "      <td>990480.0</td>\n",
       "      <td>370000.0</td>\n",
       "      <td>86.0</td>\n",
       "      <td>2009.0</td>\n",
       "      <td>83.0</td>\n",
       "      <td>8818.0</td>\n",
       "      <td>2.0</td>\n",
       "      <td>76.0</td>\n",
       "      <td>8818.0</td>\n",
       "      <td>1.0</td>\n",
       "      <td>2014.0</td>\n",
       "      <td>570.0</td>\n",
       "      <td>565.0</td>\n",
       "      <td>595.0</td>\n",
       "      <td>1.0</td>\n",
       "      <td>495.0</td>\n",
       "      <td>233.0</td>\n",
       "      <td>-1.0</td>\n",
       "      <td>-1.0</td>\n",
       "      <td>-1.0</td>\n",
       "      <td>-1.0</td>\n",
       "      <td>-1.0</td>\n",
       "      <td>1.0</td>\n",
       "      <td>1.0</td>\n",
       "      <td>1.0</td>\n",
       "      <td>1.0</td>\n",
       "      <td>1.0</td>\n",
       "    </tr>\n",
       "    <tr>\n",
       "      <th>max</th>\n",
       "      <td>1298275.0</td>\n",
       "      <td>4000000.0</td>\n",
       "      <td>98.0</td>\n",
       "      <td>2013.0</td>\n",
       "      <td>99.0</td>\n",
       "      <td>18409.0</td>\n",
       "      <td>2.0</td>\n",
       "      <td>100.0</td>\n",
       "      <td>18409.0</td>\n",
       "      <td>1.0</td>\n",
       "      <td>2017.0</td>\n",
       "      <td>875.0</td>\n",
       "      <td>795.0</td>\n",
       "      <td>900.0</td>\n",
       "      <td>1.0</td>\n",
       "      <td>840.0</td>\n",
       "      <td>612.0</td>\n",
       "      <td>715.0</td>\n",
       "      <td>623.0</td>\n",
       "      <td>676.0</td>\n",
       "      <td>548.0</td>\n",
       "      <td>516.0</td>\n",
       "      <td>2.0</td>\n",
       "      <td>2.0</td>\n",
       "      <td>3.0</td>\n",
       "      <td>3.0</td>\n",
       "      <td>2.0</td>\n",
       "    </tr>\n",
       "  </tbody>\n",
       "</table>\n",
       "</div>"
      ],
      "text/plain": [
       "              ID     Salary  10percentage  12graduation  12percentage  \\\n",
       "count     3998.0     3998.0        3998.0        3998.0        3998.0   \n",
       "mean    663795.0   307700.0          78.0        2008.0          74.0   \n",
       "std     363218.0   212737.0          10.0           2.0          11.0   \n",
       "min      11244.0    35000.0          43.0        1995.0          40.0   \n",
       "25%     334284.0   180000.0          72.0        2007.0          66.0   \n",
       "50%     639600.0   300000.0          79.0        2008.0          74.0   \n",
       "75%     990480.0   370000.0          86.0        2009.0          83.0   \n",
       "max    1298275.0  4000000.0          98.0        2013.0          99.0   \n",
       "\n",
       "       CollegeID  CollegeTier  collegeGPA  CollegeCityID  CollegeCityTier  \\\n",
       "count     3998.0       3998.0      3998.0         3998.0           3998.0   \n",
       "mean      5157.0          2.0        71.0         5157.0              0.0   \n",
       "std       4802.0          0.0         8.0         4802.0              0.0   \n",
       "min          2.0          1.0         6.0            2.0              0.0   \n",
       "25%        494.0          2.0        66.0          494.0              0.0   \n",
       "50%       3879.0          2.0        72.0         3879.0              0.0   \n",
       "75%       8818.0          2.0        76.0         8818.0              1.0   \n",
       "max      18409.0          2.0       100.0        18409.0              1.0   \n",
       "\n",
       "       GraduationYear  English  Logical   Quant  Domain  ComputerProgramming  \\\n",
       "count          3998.0   3998.0   3998.0  3998.0  3998.0               3998.0   \n",
       "mean           2012.0    502.0    502.0   513.0     1.0                353.0   \n",
       "std              32.0    105.0     87.0   122.0     0.0                205.0   \n",
       "min               0.0    180.0    195.0   120.0    -1.0                 -1.0   \n",
       "25%            2012.0    425.0    445.0   430.0     0.0                295.0   \n",
       "50%            2013.0    500.0    505.0   515.0     1.0                415.0   \n",
       "75%            2014.0    570.0    565.0   595.0     1.0                495.0   \n",
       "max            2017.0    875.0    795.0   900.0     1.0                840.0   \n",
       "\n",
       "       ElectronicsAndSemicon  ComputerScience  MechanicalEngg  ElectricalEngg  \\\n",
       "count                 3998.0           3998.0          3998.0          3998.0   \n",
       "mean                    95.0             91.0            23.0            16.0   \n",
       "std                    158.0            175.0            98.0            88.0   \n",
       "min                     -1.0             -1.0            -1.0            -1.0   \n",
       "25%                     -1.0             -1.0            -1.0            -1.0   \n",
       "50%                     -1.0             -1.0            -1.0            -1.0   \n",
       "75%                    233.0             -1.0            -1.0            -1.0   \n",
       "max                    612.0            715.0           623.0           676.0   \n",
       "\n",
       "       TelecomEngg  CivilEngg  conscientiousness  agreeableness  extraversion  \\\n",
       "count       3998.0     3998.0             3998.0         3998.0        3998.0   \n",
       "mean          32.0        3.0               -0.0            0.0           0.0   \n",
       "std          105.0       37.0                1.0            1.0           1.0   \n",
       "min           -1.0       -1.0               -4.0           -6.0          -5.0   \n",
       "25%           -1.0       -1.0               -1.0           -0.0          -1.0   \n",
       "50%           -1.0       -1.0                0.0            0.0           0.0   \n",
       "75%           -1.0       -1.0                1.0            1.0           1.0   \n",
       "max          548.0      516.0                2.0            2.0           3.0   \n",
       "\n",
       "       nueroticism  openess_to_experience  \n",
       "count       3998.0                 3998.0  \n",
       "mean          -0.0                   -0.0  \n",
       "std            1.0                    1.0  \n",
       "min           -3.0                   -7.0  \n",
       "25%           -1.0                   -1.0  \n",
       "50%           -0.0                   -0.0  \n",
       "75%            1.0                    1.0  \n",
       "max            3.0                    2.0  "
      ]
     },
     "execution_count": 12,
     "metadata": {},
     "output_type": "execute_result"
    }
   ],
   "source": [
    "np.round(data.describe())"
   ]
  },
  {
   "cell_type": "code",
   "execution_count": null,
   "id": "7f38c57a",
   "metadata": {},
   "outputs": [],
   "source": []
  },
  {
   "cell_type": "markdown",
   "id": "928c9ac2",
   "metadata": {},
   "source": [
    "## Data Cleaning"
   ]
  },
  {
   "cell_type": "markdown",
   "id": "bb05adce",
   "metadata": {},
   "source": [
    "Converting DOJ, DOL and DOB inton date time as they are given in timestamp format."
   ]
  },
  {
   "cell_type": "code",
   "execution_count": 13,
   "id": "74dd0ab2",
   "metadata": {},
   "outputs": [],
   "source": [
    "data[\"DOJ\"]=pd.to_datetime(data[\"DOJ\"]).dt.date\n",
    "data[\"DOL\"].replace(\"present\",dt.datetime.today(),inplace=True)\n",
    "data['DOL'] = pd.to_datetime(data['DOL']).dt.date\n",
    "data['DOB'] = pd.to_datetime(data['DOB']).dt.date"
   ]
  },
  {
   "cell_type": "code",
   "execution_count": 14,
   "id": "63de25e3",
   "metadata": {},
   "outputs": [
    {
     "data": {
      "text/html": [
       "<div>\n",
       "<style scoped>\n",
       "    .dataframe tbody tr th:only-of-type {\n",
       "        vertical-align: middle;\n",
       "    }\n",
       "\n",
       "    .dataframe tbody tr th {\n",
       "        vertical-align: top;\n",
       "    }\n",
       "\n",
       "    .dataframe thead th {\n",
       "        text-align: right;\n",
       "    }\n",
       "</style>\n",
       "<table border=\"1\" class=\"dataframe\">\n",
       "  <thead>\n",
       "    <tr style=\"text-align: right;\">\n",
       "      <th></th>\n",
       "      <th>ID</th>\n",
       "      <th>Salary</th>\n",
       "      <th>DOJ</th>\n",
       "      <th>DOL</th>\n",
       "      <th>Designation</th>\n",
       "      <th>JobCity</th>\n",
       "      <th>Gender</th>\n",
       "      <th>DOB</th>\n",
       "      <th>10percentage</th>\n",
       "      <th>10board</th>\n",
       "      <th>12graduation</th>\n",
       "      <th>12percentage</th>\n",
       "      <th>12board</th>\n",
       "      <th>CollegeID</th>\n",
       "      <th>CollegeTier</th>\n",
       "      <th>Degree</th>\n",
       "      <th>Specialization</th>\n",
       "      <th>collegeGPA</th>\n",
       "      <th>CollegeCityID</th>\n",
       "      <th>CollegeCityTier</th>\n",
       "      <th>CollegeState</th>\n",
       "      <th>GraduationYear</th>\n",
       "      <th>English</th>\n",
       "      <th>Logical</th>\n",
       "      <th>Quant</th>\n",
       "      <th>Domain</th>\n",
       "      <th>ComputerProgramming</th>\n",
       "      <th>ElectronicsAndSemicon</th>\n",
       "      <th>ComputerScience</th>\n",
       "      <th>MechanicalEngg</th>\n",
       "      <th>ElectricalEngg</th>\n",
       "      <th>TelecomEngg</th>\n",
       "      <th>CivilEngg</th>\n",
       "      <th>conscientiousness</th>\n",
       "      <th>agreeableness</th>\n",
       "      <th>extraversion</th>\n",
       "      <th>nueroticism</th>\n",
       "      <th>openess_to_experience</th>\n",
       "    </tr>\n",
       "  </thead>\n",
       "  <tbody>\n",
       "    <tr>\n",
       "      <th>0</th>\n",
       "      <td>203097</td>\n",
       "      <td>420000.0</td>\n",
       "      <td>2012-06-01</td>\n",
       "      <td>2024-02-23</td>\n",
       "      <td>senior quality engineer</td>\n",
       "      <td>Bangalore</td>\n",
       "      <td>f</td>\n",
       "      <td>1990-02-19</td>\n",
       "      <td>84.3</td>\n",
       "      <td>board ofsecondary education,ap</td>\n",
       "      <td>2007</td>\n",
       "      <td>95.8</td>\n",
       "      <td>board of intermediate education,ap</td>\n",
       "      <td>1141</td>\n",
       "      <td>2</td>\n",
       "      <td>B.Tech/B.E.</td>\n",
       "      <td>computer engineering</td>\n",
       "      <td>78.00</td>\n",
       "      <td>1141</td>\n",
       "      <td>0</td>\n",
       "      <td>Andhra Pradesh</td>\n",
       "      <td>2011</td>\n",
       "      <td>515</td>\n",
       "      <td>585</td>\n",
       "      <td>525</td>\n",
       "      <td>0.635979</td>\n",
       "      <td>445</td>\n",
       "      <td>-1</td>\n",
       "      <td>-1</td>\n",
       "      <td>-1</td>\n",
       "      <td>-1</td>\n",
       "      <td>-1</td>\n",
       "      <td>-1</td>\n",
       "      <td>0.9737</td>\n",
       "      <td>0.8128</td>\n",
       "      <td>0.5269</td>\n",
       "      <td>1.35490</td>\n",
       "      <td>-0.4455</td>\n",
       "    </tr>\n",
       "    <tr>\n",
       "      <th>1</th>\n",
       "      <td>579905</td>\n",
       "      <td>500000.0</td>\n",
       "      <td>2013-09-01</td>\n",
       "      <td>2024-02-23</td>\n",
       "      <td>assistant manager</td>\n",
       "      <td>Indore</td>\n",
       "      <td>m</td>\n",
       "      <td>1989-10-04</td>\n",
       "      <td>85.4</td>\n",
       "      <td>cbse</td>\n",
       "      <td>2007</td>\n",
       "      <td>85.0</td>\n",
       "      <td>cbse</td>\n",
       "      <td>5807</td>\n",
       "      <td>2</td>\n",
       "      <td>B.Tech/B.E.</td>\n",
       "      <td>electronics and communication engineering</td>\n",
       "      <td>70.06</td>\n",
       "      <td>5807</td>\n",
       "      <td>0</td>\n",
       "      <td>Madhya Pradesh</td>\n",
       "      <td>2012</td>\n",
       "      <td>695</td>\n",
       "      <td>610</td>\n",
       "      <td>780</td>\n",
       "      <td>0.960603</td>\n",
       "      <td>-1</td>\n",
       "      <td>466</td>\n",
       "      <td>-1</td>\n",
       "      <td>-1</td>\n",
       "      <td>-1</td>\n",
       "      <td>-1</td>\n",
       "      <td>-1</td>\n",
       "      <td>-0.7335</td>\n",
       "      <td>0.3789</td>\n",
       "      <td>1.2396</td>\n",
       "      <td>-0.10760</td>\n",
       "      <td>0.8637</td>\n",
       "    </tr>\n",
       "    <tr>\n",
       "      <th>2</th>\n",
       "      <td>810601</td>\n",
       "      <td>325000.0</td>\n",
       "      <td>2014-06-01</td>\n",
       "      <td>2024-02-23</td>\n",
       "      <td>systems engineer</td>\n",
       "      <td>Chennai</td>\n",
       "      <td>f</td>\n",
       "      <td>1992-08-03</td>\n",
       "      <td>85.0</td>\n",
       "      <td>cbse</td>\n",
       "      <td>2010</td>\n",
       "      <td>68.2</td>\n",
       "      <td>cbse</td>\n",
       "      <td>64</td>\n",
       "      <td>2</td>\n",
       "      <td>B.Tech/B.E.</td>\n",
       "      <td>information technology</td>\n",
       "      <td>70.00</td>\n",
       "      <td>64</td>\n",
       "      <td>0</td>\n",
       "      <td>Uttar Pradesh</td>\n",
       "      <td>2014</td>\n",
       "      <td>615</td>\n",
       "      <td>545</td>\n",
       "      <td>370</td>\n",
       "      <td>0.450877</td>\n",
       "      <td>395</td>\n",
       "      <td>-1</td>\n",
       "      <td>-1</td>\n",
       "      <td>-1</td>\n",
       "      <td>-1</td>\n",
       "      <td>-1</td>\n",
       "      <td>-1</td>\n",
       "      <td>0.2718</td>\n",
       "      <td>1.7109</td>\n",
       "      <td>0.1637</td>\n",
       "      <td>-0.86820</td>\n",
       "      <td>0.6721</td>\n",
       "    </tr>\n",
       "    <tr>\n",
       "      <th>3</th>\n",
       "      <td>267447</td>\n",
       "      <td>1100000.0</td>\n",
       "      <td>2011-07-01</td>\n",
       "      <td>2024-02-23</td>\n",
       "      <td>senior software engineer</td>\n",
       "      <td>Gurgaon</td>\n",
       "      <td>m</td>\n",
       "      <td>1989-12-05</td>\n",
       "      <td>85.6</td>\n",
       "      <td>cbse</td>\n",
       "      <td>2007</td>\n",
       "      <td>83.6</td>\n",
       "      <td>cbse</td>\n",
       "      <td>6920</td>\n",
       "      <td>1</td>\n",
       "      <td>B.Tech/B.E.</td>\n",
       "      <td>computer engineering</td>\n",
       "      <td>74.64</td>\n",
       "      <td>6920</td>\n",
       "      <td>1</td>\n",
       "      <td>Delhi</td>\n",
       "      <td>2011</td>\n",
       "      <td>635</td>\n",
       "      <td>585</td>\n",
       "      <td>625</td>\n",
       "      <td>0.974396</td>\n",
       "      <td>615</td>\n",
       "      <td>-1</td>\n",
       "      <td>-1</td>\n",
       "      <td>-1</td>\n",
       "      <td>-1</td>\n",
       "      <td>-1</td>\n",
       "      <td>-1</td>\n",
       "      <td>0.0464</td>\n",
       "      <td>0.3448</td>\n",
       "      <td>-0.3440</td>\n",
       "      <td>-0.40780</td>\n",
       "      <td>-0.9194</td>\n",
       "    </tr>\n",
       "    <tr>\n",
       "      <th>4</th>\n",
       "      <td>343523</td>\n",
       "      <td>200000.0</td>\n",
       "      <td>2014-03-01</td>\n",
       "      <td>2015-03-01</td>\n",
       "      <td>get</td>\n",
       "      <td>Manesar</td>\n",
       "      <td>m</td>\n",
       "      <td>1991-02-27</td>\n",
       "      <td>78.0</td>\n",
       "      <td>cbse</td>\n",
       "      <td>2008</td>\n",
       "      <td>76.8</td>\n",
       "      <td>cbse</td>\n",
       "      <td>11368</td>\n",
       "      <td>2</td>\n",
       "      <td>B.Tech/B.E.</td>\n",
       "      <td>electronics and communication engineering</td>\n",
       "      <td>73.90</td>\n",
       "      <td>11368</td>\n",
       "      <td>0</td>\n",
       "      <td>Uttar Pradesh</td>\n",
       "      <td>2012</td>\n",
       "      <td>545</td>\n",
       "      <td>625</td>\n",
       "      <td>465</td>\n",
       "      <td>0.124502</td>\n",
       "      <td>-1</td>\n",
       "      <td>233</td>\n",
       "      <td>-1</td>\n",
       "      <td>-1</td>\n",
       "      <td>-1</td>\n",
       "      <td>-1</td>\n",
       "      <td>-1</td>\n",
       "      <td>-0.8810</td>\n",
       "      <td>-0.2793</td>\n",
       "      <td>-1.0697</td>\n",
       "      <td>0.09163</td>\n",
       "      <td>-0.1295</td>\n",
       "    </tr>\n",
       "  </tbody>\n",
       "</table>\n",
       "</div>"
      ],
      "text/plain": [
       "       ID     Salary         DOJ         DOL               Designation  \\\n",
       "0  203097   420000.0  2012-06-01  2024-02-23   senior quality engineer   \n",
       "1  579905   500000.0  2013-09-01  2024-02-23         assistant manager   \n",
       "2  810601   325000.0  2014-06-01  2024-02-23          systems engineer   \n",
       "3  267447  1100000.0  2011-07-01  2024-02-23  senior software engineer   \n",
       "4  343523   200000.0  2014-03-01  2015-03-01                       get   \n",
       "\n",
       "     JobCity Gender         DOB  10percentage                         10board  \\\n",
       "0  Bangalore      f  1990-02-19          84.3  board ofsecondary education,ap   \n",
       "1     Indore      m  1989-10-04          85.4                            cbse   \n",
       "2    Chennai      f  1992-08-03          85.0                            cbse   \n",
       "3    Gurgaon      m  1989-12-05          85.6                            cbse   \n",
       "4    Manesar      m  1991-02-27          78.0                            cbse   \n",
       "\n",
       "   12graduation  12percentage                             12board  CollegeID  \\\n",
       "0          2007          95.8  board of intermediate education,ap       1141   \n",
       "1          2007          85.0                                cbse       5807   \n",
       "2          2010          68.2                                cbse         64   \n",
       "3          2007          83.6                                cbse       6920   \n",
       "4          2008          76.8                                cbse      11368   \n",
       "\n",
       "   CollegeTier       Degree                             Specialization  \\\n",
       "0            2  B.Tech/B.E.                       computer engineering   \n",
       "1            2  B.Tech/B.E.  electronics and communication engineering   \n",
       "2            2  B.Tech/B.E.                     information technology   \n",
       "3            1  B.Tech/B.E.                       computer engineering   \n",
       "4            2  B.Tech/B.E.  electronics and communication engineering   \n",
       "\n",
       "   collegeGPA  CollegeCityID  CollegeCityTier    CollegeState  GraduationYear  \\\n",
       "0       78.00           1141                0  Andhra Pradesh            2011   \n",
       "1       70.06           5807                0  Madhya Pradesh            2012   \n",
       "2       70.00             64                0   Uttar Pradesh            2014   \n",
       "3       74.64           6920                1           Delhi            2011   \n",
       "4       73.90          11368                0   Uttar Pradesh            2012   \n",
       "\n",
       "   English  Logical  Quant    Domain  ComputerProgramming  \\\n",
       "0      515      585    525  0.635979                  445   \n",
       "1      695      610    780  0.960603                   -1   \n",
       "2      615      545    370  0.450877                  395   \n",
       "3      635      585    625  0.974396                  615   \n",
       "4      545      625    465  0.124502                   -1   \n",
       "\n",
       "   ElectronicsAndSemicon  ComputerScience  MechanicalEngg  ElectricalEngg  \\\n",
       "0                     -1               -1              -1              -1   \n",
       "1                    466               -1              -1              -1   \n",
       "2                     -1               -1              -1              -1   \n",
       "3                     -1               -1              -1              -1   \n",
       "4                    233               -1              -1              -1   \n",
       "\n",
       "   TelecomEngg  CivilEngg  conscientiousness  agreeableness  extraversion  \\\n",
       "0           -1         -1             0.9737         0.8128        0.5269   \n",
       "1           -1         -1            -0.7335         0.3789        1.2396   \n",
       "2           -1         -1             0.2718         1.7109        0.1637   \n",
       "3           -1         -1             0.0464         0.3448       -0.3440   \n",
       "4           -1         -1            -0.8810        -0.2793       -1.0697   \n",
       "\n",
       "   nueroticism  openess_to_experience  \n",
       "0      1.35490                -0.4455  \n",
       "1     -0.10760                 0.8637  \n",
       "2     -0.86820                 0.6721  \n",
       "3     -0.40780                -0.9194  \n",
       "4      0.09163                -0.1295  "
      ]
     },
     "execution_count": 14,
     "metadata": {},
     "output_type": "execute_result"
    }
   ],
   "source": [
    "data.head()"
   ]
  },
  {
   "cell_type": "markdown",
   "id": "aadb9de5",
   "metadata": {},
   "source": [
    "As for the DOB we do not need exact date of birth, so we can take usp only year of birth"
   ]
  },
  {
   "cell_type": "code",
   "execution_count": 15,
   "id": "9e97296d",
   "metadata": {},
   "outputs": [],
   "source": [
    "data['DOB'] = pd.to_datetime(data['DOB']).dt.year"
   ]
  },
  {
   "cell_type": "code",
   "execution_count": 16,
   "id": "76c5a153",
   "metadata": {},
   "outputs": [
    {
     "data": {
      "text/html": [
       "<div>\n",
       "<style scoped>\n",
       "    .dataframe tbody tr th:only-of-type {\n",
       "        vertical-align: middle;\n",
       "    }\n",
       "\n",
       "    .dataframe tbody tr th {\n",
       "        vertical-align: top;\n",
       "    }\n",
       "\n",
       "    .dataframe thead th {\n",
       "        text-align: right;\n",
       "    }\n",
       "</style>\n",
       "<table border=\"1\" class=\"dataframe\">\n",
       "  <thead>\n",
       "    <tr style=\"text-align: right;\">\n",
       "      <th></th>\n",
       "      <th>ID</th>\n",
       "      <th>Salary</th>\n",
       "      <th>DOJ</th>\n",
       "      <th>DOL</th>\n",
       "      <th>Designation</th>\n",
       "      <th>JobCity</th>\n",
       "      <th>Gender</th>\n",
       "      <th>DOB</th>\n",
       "      <th>10percentage</th>\n",
       "      <th>10board</th>\n",
       "      <th>12graduation</th>\n",
       "      <th>12percentage</th>\n",
       "      <th>12board</th>\n",
       "      <th>CollegeID</th>\n",
       "      <th>CollegeTier</th>\n",
       "      <th>Degree</th>\n",
       "      <th>Specialization</th>\n",
       "      <th>collegeGPA</th>\n",
       "      <th>CollegeCityID</th>\n",
       "      <th>CollegeCityTier</th>\n",
       "      <th>CollegeState</th>\n",
       "      <th>GraduationYear</th>\n",
       "      <th>English</th>\n",
       "      <th>Logical</th>\n",
       "      <th>Quant</th>\n",
       "      <th>Domain</th>\n",
       "      <th>ComputerProgramming</th>\n",
       "      <th>ElectronicsAndSemicon</th>\n",
       "      <th>ComputerScience</th>\n",
       "      <th>MechanicalEngg</th>\n",
       "      <th>ElectricalEngg</th>\n",
       "      <th>TelecomEngg</th>\n",
       "      <th>CivilEngg</th>\n",
       "      <th>conscientiousness</th>\n",
       "      <th>agreeableness</th>\n",
       "      <th>extraversion</th>\n",
       "      <th>nueroticism</th>\n",
       "      <th>openess_to_experience</th>\n",
       "    </tr>\n",
       "  </thead>\n",
       "  <tbody>\n",
       "    <tr>\n",
       "      <th>0</th>\n",
       "      <td>203097</td>\n",
       "      <td>420000.0</td>\n",
       "      <td>2012-06-01</td>\n",
       "      <td>2024-02-23</td>\n",
       "      <td>senior quality engineer</td>\n",
       "      <td>Bangalore</td>\n",
       "      <td>f</td>\n",
       "      <td>1990</td>\n",
       "      <td>84.3</td>\n",
       "      <td>board ofsecondary education,ap</td>\n",
       "      <td>2007</td>\n",
       "      <td>95.8</td>\n",
       "      <td>board of intermediate education,ap</td>\n",
       "      <td>1141</td>\n",
       "      <td>2</td>\n",
       "      <td>B.Tech/B.E.</td>\n",
       "      <td>computer engineering</td>\n",
       "      <td>78.00</td>\n",
       "      <td>1141</td>\n",
       "      <td>0</td>\n",
       "      <td>Andhra Pradesh</td>\n",
       "      <td>2011</td>\n",
       "      <td>515</td>\n",
       "      <td>585</td>\n",
       "      <td>525</td>\n",
       "      <td>0.635979</td>\n",
       "      <td>445</td>\n",
       "      <td>-1</td>\n",
       "      <td>-1</td>\n",
       "      <td>-1</td>\n",
       "      <td>-1</td>\n",
       "      <td>-1</td>\n",
       "      <td>-1</td>\n",
       "      <td>0.9737</td>\n",
       "      <td>0.8128</td>\n",
       "      <td>0.5269</td>\n",
       "      <td>1.35490</td>\n",
       "      <td>-0.4455</td>\n",
       "    </tr>\n",
       "    <tr>\n",
       "      <th>1</th>\n",
       "      <td>579905</td>\n",
       "      <td>500000.0</td>\n",
       "      <td>2013-09-01</td>\n",
       "      <td>2024-02-23</td>\n",
       "      <td>assistant manager</td>\n",
       "      <td>Indore</td>\n",
       "      <td>m</td>\n",
       "      <td>1989</td>\n",
       "      <td>85.4</td>\n",
       "      <td>cbse</td>\n",
       "      <td>2007</td>\n",
       "      <td>85.0</td>\n",
       "      <td>cbse</td>\n",
       "      <td>5807</td>\n",
       "      <td>2</td>\n",
       "      <td>B.Tech/B.E.</td>\n",
       "      <td>electronics and communication engineering</td>\n",
       "      <td>70.06</td>\n",
       "      <td>5807</td>\n",
       "      <td>0</td>\n",
       "      <td>Madhya Pradesh</td>\n",
       "      <td>2012</td>\n",
       "      <td>695</td>\n",
       "      <td>610</td>\n",
       "      <td>780</td>\n",
       "      <td>0.960603</td>\n",
       "      <td>-1</td>\n",
       "      <td>466</td>\n",
       "      <td>-1</td>\n",
       "      <td>-1</td>\n",
       "      <td>-1</td>\n",
       "      <td>-1</td>\n",
       "      <td>-1</td>\n",
       "      <td>-0.7335</td>\n",
       "      <td>0.3789</td>\n",
       "      <td>1.2396</td>\n",
       "      <td>-0.10760</td>\n",
       "      <td>0.8637</td>\n",
       "    </tr>\n",
       "    <tr>\n",
       "      <th>2</th>\n",
       "      <td>810601</td>\n",
       "      <td>325000.0</td>\n",
       "      <td>2014-06-01</td>\n",
       "      <td>2024-02-23</td>\n",
       "      <td>systems engineer</td>\n",
       "      <td>Chennai</td>\n",
       "      <td>f</td>\n",
       "      <td>1992</td>\n",
       "      <td>85.0</td>\n",
       "      <td>cbse</td>\n",
       "      <td>2010</td>\n",
       "      <td>68.2</td>\n",
       "      <td>cbse</td>\n",
       "      <td>64</td>\n",
       "      <td>2</td>\n",
       "      <td>B.Tech/B.E.</td>\n",
       "      <td>information technology</td>\n",
       "      <td>70.00</td>\n",
       "      <td>64</td>\n",
       "      <td>0</td>\n",
       "      <td>Uttar Pradesh</td>\n",
       "      <td>2014</td>\n",
       "      <td>615</td>\n",
       "      <td>545</td>\n",
       "      <td>370</td>\n",
       "      <td>0.450877</td>\n",
       "      <td>395</td>\n",
       "      <td>-1</td>\n",
       "      <td>-1</td>\n",
       "      <td>-1</td>\n",
       "      <td>-1</td>\n",
       "      <td>-1</td>\n",
       "      <td>-1</td>\n",
       "      <td>0.2718</td>\n",
       "      <td>1.7109</td>\n",
       "      <td>0.1637</td>\n",
       "      <td>-0.86820</td>\n",
       "      <td>0.6721</td>\n",
       "    </tr>\n",
       "    <tr>\n",
       "      <th>3</th>\n",
       "      <td>267447</td>\n",
       "      <td>1100000.0</td>\n",
       "      <td>2011-07-01</td>\n",
       "      <td>2024-02-23</td>\n",
       "      <td>senior software engineer</td>\n",
       "      <td>Gurgaon</td>\n",
       "      <td>m</td>\n",
       "      <td>1989</td>\n",
       "      <td>85.6</td>\n",
       "      <td>cbse</td>\n",
       "      <td>2007</td>\n",
       "      <td>83.6</td>\n",
       "      <td>cbse</td>\n",
       "      <td>6920</td>\n",
       "      <td>1</td>\n",
       "      <td>B.Tech/B.E.</td>\n",
       "      <td>computer engineering</td>\n",
       "      <td>74.64</td>\n",
       "      <td>6920</td>\n",
       "      <td>1</td>\n",
       "      <td>Delhi</td>\n",
       "      <td>2011</td>\n",
       "      <td>635</td>\n",
       "      <td>585</td>\n",
       "      <td>625</td>\n",
       "      <td>0.974396</td>\n",
       "      <td>615</td>\n",
       "      <td>-1</td>\n",
       "      <td>-1</td>\n",
       "      <td>-1</td>\n",
       "      <td>-1</td>\n",
       "      <td>-1</td>\n",
       "      <td>-1</td>\n",
       "      <td>0.0464</td>\n",
       "      <td>0.3448</td>\n",
       "      <td>-0.3440</td>\n",
       "      <td>-0.40780</td>\n",
       "      <td>-0.9194</td>\n",
       "    </tr>\n",
       "    <tr>\n",
       "      <th>4</th>\n",
       "      <td>343523</td>\n",
       "      <td>200000.0</td>\n",
       "      <td>2014-03-01</td>\n",
       "      <td>2015-03-01</td>\n",
       "      <td>get</td>\n",
       "      <td>Manesar</td>\n",
       "      <td>m</td>\n",
       "      <td>1991</td>\n",
       "      <td>78.0</td>\n",
       "      <td>cbse</td>\n",
       "      <td>2008</td>\n",
       "      <td>76.8</td>\n",
       "      <td>cbse</td>\n",
       "      <td>11368</td>\n",
       "      <td>2</td>\n",
       "      <td>B.Tech/B.E.</td>\n",
       "      <td>electronics and communication engineering</td>\n",
       "      <td>73.90</td>\n",
       "      <td>11368</td>\n",
       "      <td>0</td>\n",
       "      <td>Uttar Pradesh</td>\n",
       "      <td>2012</td>\n",
       "      <td>545</td>\n",
       "      <td>625</td>\n",
       "      <td>465</td>\n",
       "      <td>0.124502</td>\n",
       "      <td>-1</td>\n",
       "      <td>233</td>\n",
       "      <td>-1</td>\n",
       "      <td>-1</td>\n",
       "      <td>-1</td>\n",
       "      <td>-1</td>\n",
       "      <td>-1</td>\n",
       "      <td>-0.8810</td>\n",
       "      <td>-0.2793</td>\n",
       "      <td>-1.0697</td>\n",
       "      <td>0.09163</td>\n",
       "      <td>-0.1295</td>\n",
       "    </tr>\n",
       "  </tbody>\n",
       "</table>\n",
       "</div>"
      ],
      "text/plain": [
       "       ID     Salary         DOJ         DOL               Designation  \\\n",
       "0  203097   420000.0  2012-06-01  2024-02-23   senior quality engineer   \n",
       "1  579905   500000.0  2013-09-01  2024-02-23         assistant manager   \n",
       "2  810601   325000.0  2014-06-01  2024-02-23          systems engineer   \n",
       "3  267447  1100000.0  2011-07-01  2024-02-23  senior software engineer   \n",
       "4  343523   200000.0  2014-03-01  2015-03-01                       get   \n",
       "\n",
       "     JobCity Gender   DOB  10percentage                         10board  \\\n",
       "0  Bangalore      f  1990          84.3  board ofsecondary education,ap   \n",
       "1     Indore      m  1989          85.4                            cbse   \n",
       "2    Chennai      f  1992          85.0                            cbse   \n",
       "3    Gurgaon      m  1989          85.6                            cbse   \n",
       "4    Manesar      m  1991          78.0                            cbse   \n",
       "\n",
       "   12graduation  12percentage                             12board  CollegeID  \\\n",
       "0          2007          95.8  board of intermediate education,ap       1141   \n",
       "1          2007          85.0                                cbse       5807   \n",
       "2          2010          68.2                                cbse         64   \n",
       "3          2007          83.6                                cbse       6920   \n",
       "4          2008          76.8                                cbse      11368   \n",
       "\n",
       "   CollegeTier       Degree                             Specialization  \\\n",
       "0            2  B.Tech/B.E.                       computer engineering   \n",
       "1            2  B.Tech/B.E.  electronics and communication engineering   \n",
       "2            2  B.Tech/B.E.                     information technology   \n",
       "3            1  B.Tech/B.E.                       computer engineering   \n",
       "4            2  B.Tech/B.E.  electronics and communication engineering   \n",
       "\n",
       "   collegeGPA  CollegeCityID  CollegeCityTier    CollegeState  GraduationYear  \\\n",
       "0       78.00           1141                0  Andhra Pradesh            2011   \n",
       "1       70.06           5807                0  Madhya Pradesh            2012   \n",
       "2       70.00             64                0   Uttar Pradesh            2014   \n",
       "3       74.64           6920                1           Delhi            2011   \n",
       "4       73.90          11368                0   Uttar Pradesh            2012   \n",
       "\n",
       "   English  Logical  Quant    Domain  ComputerProgramming  \\\n",
       "0      515      585    525  0.635979                  445   \n",
       "1      695      610    780  0.960603                   -1   \n",
       "2      615      545    370  0.450877                  395   \n",
       "3      635      585    625  0.974396                  615   \n",
       "4      545      625    465  0.124502                   -1   \n",
       "\n",
       "   ElectronicsAndSemicon  ComputerScience  MechanicalEngg  ElectricalEngg  \\\n",
       "0                     -1               -1              -1              -1   \n",
       "1                    466               -1              -1              -1   \n",
       "2                     -1               -1              -1              -1   \n",
       "3                     -1               -1              -1              -1   \n",
       "4                    233               -1              -1              -1   \n",
       "\n",
       "   TelecomEngg  CivilEngg  conscientiousness  agreeableness  extraversion  \\\n",
       "0           -1         -1             0.9737         0.8128        0.5269   \n",
       "1           -1         -1            -0.7335         0.3789        1.2396   \n",
       "2           -1         -1             0.2718         1.7109        0.1637   \n",
       "3           -1         -1             0.0464         0.3448       -0.3440   \n",
       "4           -1         -1            -0.8810        -0.2793       -1.0697   \n",
       "\n",
       "   nueroticism  openess_to_experience  \n",
       "0      1.35490                -0.4455  \n",
       "1     -0.10760                 0.8637  \n",
       "2     -0.86820                 0.6721  \n",
       "3     -0.40780                -0.9194  \n",
       "4      0.09163                -0.1295  "
      ]
     },
     "execution_count": 16,
     "metadata": {},
     "output_type": "execute_result"
    }
   ],
   "source": [
    "data.head()"
   ]
  },
  {
   "cell_type": "markdown",
   "id": "91eff591",
   "metadata": {},
   "source": [
    "While handling big data, we always tend to check whether there are any missing values or not, as we know there are none null values so we would check for 0 indicated values."
   ]
  },
  {
   "cell_type": "code",
   "execution_count": 17,
   "id": "8fe58722",
   "metadata": {},
   "outputs": [
    {
     "data": {
      "text/plain": [
       "ID                          0\n",
       "Salary                      0\n",
       "DOJ                         0\n",
       "DOL                         0\n",
       "Designation                 0\n",
       "JobCity                     0\n",
       "Gender                      0\n",
       "DOB                         0\n",
       "10percentage                0\n",
       "10board                     0\n",
       "12graduation                0\n",
       "12percentage                0\n",
       "12board                     0\n",
       "CollegeID                   0\n",
       "CollegeTier                 0\n",
       "Degree                      0\n",
       "Specialization              0\n",
       "collegeGPA                  0\n",
       "CollegeCityID               0\n",
       "CollegeCityTier             0\n",
       "CollegeState                0\n",
       "GraduationYear              0\n",
       "English                     0\n",
       "Logical                     0\n",
       "Quant                       0\n",
       "Domain                    246\n",
       "ComputerProgramming       868\n",
       "ElectronicsAndSemicon    2854\n",
       "ComputerScience          3096\n",
       "MechanicalEngg           3763\n",
       "ElectricalEngg           3837\n",
       "TelecomEngg              3624\n",
       "CivilEngg                3956\n",
       "conscientiousness           0\n",
       "agreeableness               0\n",
       "extraversion                0\n",
       "nueroticism                 0\n",
       "openess_to_experience       0\n",
       "dtype: int64"
      ]
     },
     "execution_count": 17,
     "metadata": {},
     "output_type": "execute_result"
    }
   ],
   "source": [
    "data.isin([-1, 'NaN']).sum()\n"
   ]
  },
  {
   "cell_type": "markdown",
   "id": "fcc13f7f",
   "metadata": {},
   "source": [
    "## Uni-variate and Bi-variate Analysis"
   ]
  },
  {
   "cell_type": "code",
   "execution_count": 18,
   "id": "9d3f1c8e",
   "metadata": {},
   "outputs": [],
   "source": [
    "data.drop(columns=['CollegeID','CollegeCityID','CollegeCityTier'],axis=1,inplace=True)\n"
   ]
  },
  {
   "cell_type": "markdown",
   "id": "53b52dae",
   "metadata": {},
   "source": [
    "### Gender ratio"
   ]
  },
  {
   "cell_type": "code",
   "execution_count": 21,
   "id": "b1e102e8",
   "metadata": {},
   "outputs": [
    {
     "data": {
      "image/png": "[encoded data removed]",
      "text/plain": [
       "<Figure size 432x288 with 1 Axes>"
      ]
     },
     "metadata": {},
     "output_type": "display_data"
    }
   ],
   "source": [
    "sns.countplot(data['Gender']);"
   ]
  },
  {
   "cell_type": "code",
   "execution_count": 22,
   "id": "f5cefbbf",
   "metadata": {},
   "outputs": [
    {
     "data": {
      "text/plain": [
       "Gender\n",
       "m    3041\n",
       "f     957\n",
       "Name: count, dtype: int64"
      ]
     },
     "execution_count": 22,
     "metadata": {},
     "output_type": "execute_result"
    }
   ],
   "source": [
    "data['Gender'].value_counts()"
   ]
  },
  {
   "cell_type": "markdown",
   "id": "d0dd53da",
   "metadata": {},
   "source": [
    "The ratio of m/f is 3.19 indicates there are 3 times more men than women employed"
   ]
  },
  {
   "cell_type": "markdown",
   "id": "054bc783",
   "metadata": {},
   "source": [
    "### Salary by GEnder"
   ]
  },
  {
   "cell_type": "code",
   "execution_count": 23,
   "id": "48196be2",
   "metadata": {},
   "outputs": [
    {
     "data": {
      "image/png": "[encoded data removed]",
      "text/plain": [
       "<Figure size 720x360 with 1 Axes>"
      ]
     },
     "metadata": {},
     "output_type": "display_data"
    }
   ],
   "source": [
    "plt.figure(figsize=(10,5))\n",
    "sns.boxplot(x='Salary',y='Gender',data=data);"
   ]
  },
  {
   "cell_type": "markdown",
   "id": "2603b2da",
   "metadata": {},
   "source": [
    "- It is noted that there are many outliers in the salary data\n",
    "- There is not much difference between median salary for both genders.\n",
    "- We can also observe male have more outliers indicating they are more people getting higher pays in male than female category"
   ]
  },
  {
   "cell_type": "markdown",
   "id": "757a9ba7",
   "metadata": {},
   "source": [
    "### Degree"
   ]
  },
  {
   "cell_type": "code",
   "execution_count": 24,
   "id": "5675dd49",
   "metadata": {},
   "outputs": [
    {
     "data": {
      "image/png": "[encoded data removed]",
      "text/plain": [
       "<Figure size 432x288 with 1 Axes>"
      ]
     },
     "metadata": {},
     "output_type": "display_data"
    }
   ],
   "source": [
    "sns.countplot(data['Degree']);"
   ]
  },
  {
   "cell_type": "markdown",
   "id": "b614b08b",
   "metadata": {},
   "source": [
    "We can normally observe from the plot that mostly AMCAT aspirants are from B Tech domain."
   ]
  },
  {
   "cell_type": "markdown",
   "id": "7b4b48df",
   "metadata": {},
   "source": [
    "### Salary according to Degree"
   ]
  },
  {
   "cell_type": "code",
   "execution_count": 25,
   "id": "682f6a3a",
   "metadata": {},
   "outputs": [
    {
     "data": {
      "image/png": "[encoded data removed]",
      "text/plain": [
       "<Figure size 720x360 with 1 Axes>"
      ]
     },
     "metadata": {},
     "output_type": "display_data"
    }
   ],
   "source": [
    "plt.figure(figsize=(10,5))\n",
    "sns.barplot(x='Degree',y='Salary',hue='Gender',data=data)\n",
    "plt.xticks(fontsize=15,rotation=90)\n",
    "plt.yticks(fontsize=15)\n",
    "plt.show()\n"
   ]
  },
  {
   "cell_type": "markdown",
   "id": "2ae0af22",
   "metadata": {},
   "source": [
    "We can not conclude much from this but we can say that the people with masters tech degree are getting highly paid as compared to bachelors."
   ]
  },
  {
   "cell_type": "markdown",
   "id": "982c7bd6",
   "metadata": {},
   "source": [
    "### Designation"
   ]
  },
  {
   "cell_type": "code",
   "execution_count": 26,
   "id": "8b3f0bf2",
   "metadata": {},
   "outputs": [],
   "source": [
    "popular_Designation = data['Designation'].value_counts()[:10].index.tolist()"
   ]
  },
  {
   "cell_type": "code",
   "execution_count": 27,
   "id": "372d0c25",
   "metadata": {},
   "outputs": [
    {
     "data": {
      "text/plain": [
       "['software engineer',\n",
       " 'software developer',\n",
       " 'system engineer',\n",
       " 'programmer analyst',\n",
       " 'systems engineer',\n",
       " 'java software engineer',\n",
       " 'software test engineer',\n",
       " 'project engineer',\n",
       " 'technical support engineer',\n",
       " 'senior software engineer']"
      ]
     },
     "execution_count": 27,
     "metadata": {},
     "output_type": "execute_result"
    }
   ],
   "source": [
    "popular_Designation"
   ]
  },
  {
   "cell_type": "code",
   "execution_count": 28,
   "id": "870975bc",
   "metadata": {},
   "outputs": [],
   "source": [
    "top_Designations = data[data['Designation'].isin(popular_Designation)]"
   ]
  },
  {
   "cell_type": "code",
   "execution_count": 29,
   "id": "d57a7030",
   "metadata": {},
   "outputs": [
    {
     "data": {
      "text/plain": [
       "419"
      ]
     },
     "execution_count": 29,
     "metadata": {},
     "output_type": "execute_result"
    }
   ],
   "source": [
    "len(data['Designation'].unique())"
   ]
  },
  {
   "cell_type": "code",
   "execution_count": 30,
   "id": "52a84166",
   "metadata": {},
   "outputs": [
    {
     "data": {
      "text/html": [
       "<div>\n",
       "<style scoped>\n",
       "    .dataframe tbody tr th:only-of-type {\n",
       "        vertical-align: middle;\n",
       "    }\n",
       "\n",
       "    .dataframe tbody tr th {\n",
       "        vertical-align: top;\n",
       "    }\n",
       "\n",
       "    .dataframe thead th {\n",
       "        text-align: right;\n",
       "    }\n",
       "</style>\n",
       "<table border=\"1\" class=\"dataframe\">\n",
       "  <thead>\n",
       "    <tr style=\"text-align: right;\">\n",
       "      <th></th>\n",
       "      <th>ID</th>\n",
       "      <th>Salary</th>\n",
       "      <th>DOJ</th>\n",
       "      <th>DOL</th>\n",
       "      <th>Designation</th>\n",
       "      <th>JobCity</th>\n",
       "      <th>Gender</th>\n",
       "      <th>DOB</th>\n",
       "      <th>10percentage</th>\n",
       "      <th>10board</th>\n",
       "      <th>12graduation</th>\n",
       "      <th>12percentage</th>\n",
       "      <th>12board</th>\n",
       "      <th>CollegeTier</th>\n",
       "      <th>Degree</th>\n",
       "      <th>Specialization</th>\n",
       "      <th>collegeGPA</th>\n",
       "      <th>CollegeState</th>\n",
       "      <th>GraduationYear</th>\n",
       "      <th>English</th>\n",
       "      <th>Logical</th>\n",
       "      <th>Quant</th>\n",
       "      <th>Domain</th>\n",
       "      <th>ComputerProgramming</th>\n",
       "      <th>ElectronicsAndSemicon</th>\n",
       "      <th>ComputerScience</th>\n",
       "      <th>MechanicalEngg</th>\n",
       "      <th>ElectricalEngg</th>\n",
       "      <th>TelecomEngg</th>\n",
       "      <th>CivilEngg</th>\n",
       "      <th>conscientiousness</th>\n",
       "      <th>agreeableness</th>\n",
       "      <th>extraversion</th>\n",
       "      <th>nueroticism</th>\n",
       "      <th>openess_to_experience</th>\n",
       "    </tr>\n",
       "  </thead>\n",
       "  <tbody>\n",
       "    <tr>\n",
       "      <th>2</th>\n",
       "      <td>810601</td>\n",
       "      <td>325000.0</td>\n",
       "      <td>2014-06-01</td>\n",
       "      <td>2024-02-23</td>\n",
       "      <td>systems engineer</td>\n",
       "      <td>Chennai</td>\n",
       "      <td>f</td>\n",
       "      <td>1992</td>\n",
       "      <td>85.00</td>\n",
       "      <td>cbse</td>\n",
       "      <td>2010</td>\n",
       "      <td>68.2</td>\n",
       "      <td>cbse</td>\n",
       "      <td>2</td>\n",
       "      <td>B.Tech/B.E.</td>\n",
       "      <td>information technology</td>\n",
       "      <td>70.00</td>\n",
       "      <td>Uttar Pradesh</td>\n",
       "      <td>2014</td>\n",
       "      <td>615</td>\n",
       "      <td>545</td>\n",
       "      <td>370</td>\n",
       "      <td>0.450877</td>\n",
       "      <td>395</td>\n",
       "      <td>-1</td>\n",
       "      <td>-1</td>\n",
       "      <td>-1</td>\n",
       "      <td>-1</td>\n",
       "      <td>-1</td>\n",
       "      <td>-1</td>\n",
       "      <td>0.2718</td>\n",
       "      <td>1.7109</td>\n",
       "      <td>0.1637</td>\n",
       "      <td>-0.8682</td>\n",
       "      <td>0.6721</td>\n",
       "    </tr>\n",
       "    <tr>\n",
       "      <th>3</th>\n",
       "      <td>267447</td>\n",
       "      <td>1100000.0</td>\n",
       "      <td>2011-07-01</td>\n",
       "      <td>2024-02-23</td>\n",
       "      <td>senior software engineer</td>\n",
       "      <td>Gurgaon</td>\n",
       "      <td>m</td>\n",
       "      <td>1989</td>\n",
       "      <td>85.60</td>\n",
       "      <td>cbse</td>\n",
       "      <td>2007</td>\n",
       "      <td>83.6</td>\n",
       "      <td>cbse</td>\n",
       "      <td>1</td>\n",
       "      <td>B.Tech/B.E.</td>\n",
       "      <td>computer engineering</td>\n",
       "      <td>74.64</td>\n",
       "      <td>Delhi</td>\n",
       "      <td>2011</td>\n",
       "      <td>635</td>\n",
       "      <td>585</td>\n",
       "      <td>625</td>\n",
       "      <td>0.974396</td>\n",
       "      <td>615</td>\n",
       "      <td>-1</td>\n",
       "      <td>-1</td>\n",
       "      <td>-1</td>\n",
       "      <td>-1</td>\n",
       "      <td>-1</td>\n",
       "      <td>-1</td>\n",
       "      <td>0.0464</td>\n",
       "      <td>0.3448</td>\n",
       "      <td>-0.3440</td>\n",
       "      <td>-0.4078</td>\n",
       "      <td>-0.9194</td>\n",
       "    </tr>\n",
       "    <tr>\n",
       "      <th>5</th>\n",
       "      <td>1027655</td>\n",
       "      <td>300000.0</td>\n",
       "      <td>2014-06-01</td>\n",
       "      <td>2024-02-23</td>\n",
       "      <td>system engineer</td>\n",
       "      <td>Hyderabad</td>\n",
       "      <td>m</td>\n",
       "      <td>1992</td>\n",
       "      <td>89.92</td>\n",
       "      <td>state board</td>\n",
       "      <td>2010</td>\n",
       "      <td>87.0</td>\n",
       "      <td>state board</td>\n",
       "      <td>2</td>\n",
       "      <td>B.Tech/B.E.</td>\n",
       "      <td>electronics and communication engineering</td>\n",
       "      <td>76.32</td>\n",
       "      <td>Karnataka</td>\n",
       "      <td>2014</td>\n",
       "      <td>560</td>\n",
       "      <td>555</td>\n",
       "      <td>620</td>\n",
       "      <td>-1.000000</td>\n",
       "      <td>645</td>\n",
       "      <td>-1</td>\n",
       "      <td>407</td>\n",
       "      <td>-1</td>\n",
       "      <td>-1</td>\n",
       "      <td>-1</td>\n",
       "      <td>-1</td>\n",
       "      <td>-0.3027</td>\n",
       "      <td>-0.6201</td>\n",
       "      <td>-2.2954</td>\n",
       "      <td>-0.7415</td>\n",
       "      <td>-0.8608</td>\n",
       "    </tr>\n",
       "    <tr>\n",
       "      <th>6</th>\n",
       "      <td>947847</td>\n",
       "      <td>300000.0</td>\n",
       "      <td>2014-08-01</td>\n",
       "      <td>2015-05-01</td>\n",
       "      <td>java software engineer</td>\n",
       "      <td>Banglore</td>\n",
       "      <td>m</td>\n",
       "      <td>1993</td>\n",
       "      <td>86.08</td>\n",
       "      <td>state board</td>\n",
       "      <td>2010</td>\n",
       "      <td>67.5</td>\n",
       "      <td>state board</td>\n",
       "      <td>2</td>\n",
       "      <td>B.Tech/B.E.</td>\n",
       "      <td>computer science &amp; engineering</td>\n",
       "      <td>72.98</td>\n",
       "      <td>Karnataka</td>\n",
       "      <td>2014</td>\n",
       "      <td>590</td>\n",
       "      <td>435</td>\n",
       "      <td>380</td>\n",
       "      <td>0.356536</td>\n",
       "      <td>405</td>\n",
       "      <td>-1</td>\n",
       "      <td>346</td>\n",
       "      <td>-1</td>\n",
       "      <td>-1</td>\n",
       "      <td>-1</td>\n",
       "      <td>-1</td>\n",
       "      <td>1.7081</td>\n",
       "      <td>-0.1054</td>\n",
       "      <td>-1.0379</td>\n",
       "      <td>-2.0092</td>\n",
       "      <td>-1.0872</td>\n",
       "    </tr>\n",
       "    <tr>\n",
       "      <th>9</th>\n",
       "      <td>1203363</td>\n",
       "      <td>230000.0</td>\n",
       "      <td>2014-07-01</td>\n",
       "      <td>2024-02-23</td>\n",
       "      <td>project engineer</td>\n",
       "      <td>Kolkata</td>\n",
       "      <td>m</td>\n",
       "      <td>1993</td>\n",
       "      <td>77.00</td>\n",
       "      <td>cbse</td>\n",
       "      <td>2010</td>\n",
       "      <td>72.2</td>\n",
       "      <td>cbse</td>\n",
       "      <td>2</td>\n",
       "      <td>B.Tech/B.E.</td>\n",
       "      <td>electronics and communication engineering</td>\n",
       "      <td>78.00</td>\n",
       "      <td>West Bengal</td>\n",
       "      <td>2014</td>\n",
       "      <td>605</td>\n",
       "      <td>565</td>\n",
       "      <td>545</td>\n",
       "      <td>0.493596</td>\n",
       "      <td>385</td>\n",
       "      <td>324</td>\n",
       "      <td>-1</td>\n",
       "      <td>-1</td>\n",
       "      <td>-1</td>\n",
       "      <td>-1</td>\n",
       "      <td>-1</td>\n",
       "      <td>-1.3080</td>\n",
       "      <td>0.5454</td>\n",
       "      <td>-0.9122</td>\n",
       "      <td>0.9066</td>\n",
       "      <td>0.0973</td>\n",
       "    </tr>\n",
       "  </tbody>\n",
       "</table>\n",
       "</div>"
      ],
      "text/plain": [
       "        ID     Salary         DOJ         DOL               Designation  \\\n",
       "2   810601   325000.0  2014-06-01  2024-02-23          systems engineer   \n",
       "3   267447  1100000.0  2011-07-01  2024-02-23  senior software engineer   \n",
       "5  1027655   300000.0  2014-06-01  2024-02-23           system engineer   \n",
       "6   947847   300000.0  2014-08-01  2015-05-01    java software engineer   \n",
       "9  1203363   230000.0  2014-07-01  2024-02-23          project engineer   \n",
       "\n",
       "     JobCity Gender   DOB  10percentage      10board  12graduation  \\\n",
       "2    Chennai      f  1992         85.00         cbse          2010   \n",
       "3    Gurgaon      m  1989         85.60         cbse          2007   \n",
       "5  Hyderabad      m  1992         89.92  state board          2010   \n",
       "6   Banglore      m  1993         86.08  state board          2010   \n",
       "9    Kolkata      m  1993         77.00         cbse          2010   \n",
       "\n",
       "   12percentage      12board  CollegeTier       Degree  \\\n",
       "2          68.2         cbse            2  B.Tech/B.E.   \n",
       "3          83.6         cbse            1  B.Tech/B.E.   \n",
       "5          87.0  state board            2  B.Tech/B.E.   \n",
       "6          67.5  state board            2  B.Tech/B.E.   \n",
       "9          72.2         cbse            2  B.Tech/B.E.   \n",
       "\n",
       "                              Specialization  collegeGPA   CollegeState  \\\n",
       "2                     information technology       70.00  Uttar Pradesh   \n",
       "3                       computer engineering       74.64          Delhi   \n",
       "5  electronics and communication engineering       76.32      Karnataka   \n",
       "6             computer science & engineering       72.98      Karnataka   \n",
       "9  electronics and communication engineering       78.00    West Bengal   \n",
       "\n",
       "   GraduationYear  English  Logical  Quant    Domain  ComputerProgramming  \\\n",
       "2            2014      615      545    370  0.450877                  395   \n",
       "3            2011      635      585    625  0.974396                  615   \n",
       "5            2014      560      555    620 -1.000000                  645   \n",
       "6            2014      590      435    380  0.356536                  405   \n",
       "9            2014      605      565    545  0.493596                  385   \n",
       "\n",
       "   ElectronicsAndSemicon  ComputerScience  MechanicalEngg  ElectricalEngg  \\\n",
       "2                     -1               -1              -1              -1   \n",
       "3                     -1               -1              -1              -1   \n",
       "5                     -1              407              -1              -1   \n",
       "6                     -1              346              -1              -1   \n",
       "9                    324               -1              -1              -1   \n",
       "\n",
       "   TelecomEngg  CivilEngg  conscientiousness  agreeableness  extraversion  \\\n",
       "2           -1         -1             0.2718         1.7109        0.1637   \n",
       "3           -1         -1             0.0464         0.3448       -0.3440   \n",
       "5           -1         -1            -0.3027        -0.6201       -2.2954   \n",
       "6           -1         -1             1.7081        -0.1054       -1.0379   \n",
       "9           -1         -1            -1.3080         0.5454       -0.9122   \n",
       "\n",
       "   nueroticism  openess_to_experience  \n",
       "2      -0.8682                 0.6721  \n",
       "3      -0.4078                -0.9194  \n",
       "5      -0.7415                -0.8608  \n",
       "6      -2.0092                -1.0872  \n",
       "9       0.9066                 0.0973  "
      ]
     },
     "execution_count": 30,
     "metadata": {},
     "output_type": "execute_result"
    }
   ],
   "source": [
    "top_Designations.head()"
   ]
  },
  {
   "cell_type": "code",
   "execution_count": 31,
   "id": "229c9ab3",
   "metadata": {},
   "outputs": [
    {
     "data": {
      "image/png": "[encoded data removed]",
      "text/plain": [
       "<Figure size 720x360 with 1 Axes>"
      ]
     },
     "metadata": {},
     "output_type": "display_data"
    }
   ],
   "source": [
    "plt.figure(figsize=(10,5))\n",
    "sns.countplot(x='Designation',hue='Gender',data=top_Designations)\n",
    "plt.xticks(fontsize=15,rotation=90)\n",
    "plt.yticks(fontsize=15)\n",
    "plt.show()\n"
   ]
  },
  {
   "cell_type": "markdown",
   "id": "c061532c",
   "metadata": {},
   "source": [
    "- All the general professions are more dominated by the males as we can there is considerable difference of frequency for every role.\n",
    "- Here we took the most common roles taken by the amcat aspirants which are mostly 'IT Roles'."
   ]
  },
  {
   "cell_type": "markdown",
   "id": "dc86da47",
   "metadata": {},
   "source": [
    "### Salary according to designation"
   ]
  },
  {
   "cell_type": "code",
   "execution_count": 32,
   "id": "d239d96a",
   "metadata": {},
   "outputs": [
    {
     "data": {
      "image/png": "[encoded data removed]",
      "text/plain": [
       "<Figure size 720x360 with 1 Axes>"
      ]
     },
     "metadata": {},
     "output_type": "display_data"
    }
   ],
   "source": [
    "plt.figure(figsize=(10,5))\n",
    "sns.barplot(x='Designation',y='Salary',hue='Gender',data=top_Designations)\n",
    "plt.xticks(fontsize=15,rotation=90)\n",
    "plt.yticks(fontsize=15)\n",
    "plt.show()\n"
   ]
  },
  {
   "cell_type": "markdown",
   "id": "ddd1d76d",
   "metadata": {},
   "source": [
    "- Among the most popular designations, senior software engineers hare paid higher than others.\n",
    "- mean salary of top most frequent roles is nearly independent of gender.\n",
    "- there is some considerable difference in some roles.but we cannot be sure that women is being paid less in that role\n",
    "- it might be due to experience,specialization etc."
   ]
  },
  {
   "cell_type": "markdown",
   "id": "95f2ac5a",
   "metadata": {},
   "source": [
    "### High paying designation and it's relation with gender"
   ]
  },
  {
   "cell_type": "code",
   "execution_count": 33,
   "id": "1e82101a",
   "metadata": {},
   "outputs": [],
   "source": [
    "high = list(data.sort_values(\"Salary\",ascending=False)[\"Designation\"].unique())[:10]\n",
    "high_pay = data[data['Designation'].isin(high)]"
   ]
  },
  {
   "cell_type": "code",
   "execution_count": 34,
   "id": "e74f9961",
   "metadata": {},
   "outputs": [
    {
     "data": {
      "image/png": "[encoded data removed]",
      "text/plain": [
       "<Figure size 720x360 with 1 Axes>"
      ]
     },
     "metadata": {},
     "output_type": "display_data"
    }
   ],
   "source": [
    "plt.figure(figsize=(10,5))\n",
    "sns.barplot(x='Designation',y='Salary',hue='Gender',data=high_pay)\n",
    "plt.xticks(fontsize=15,rotation=90)\n",
    "plt.yticks(fontsize=15)\n",
    "plt.show();"
   ]
  },
  {
   "cell_type": "markdown",
   "id": "c6249b68",
   "metadata": {},
   "source": [
    "- In roles like software engineer trainee there are no women working in these fields.\n",
    "- it technician is highest paying for men and assistant system engineer is the highest paying role for women.\n",
    "- The disperancy between pay based on gender might be because of other features like experience,specialization etc.\n",
    "- In 45% of top paying roles,men are generally paid higher compared to women.\n",
    "- In 20% of top paying roles,women are paid higher than men\n"
   ]
  },
  {
   "cell_type": "markdown",
   "id": "9ca5b80e",
   "metadata": {},
   "source": [
    "### High School and Intermediate  "
   ]
  },
  {
   "cell_type": "markdown",
   "id": "d777261f",
   "metadata": {},
   "source": [
    "**10th Percentage**"
   ]
  },
  {
   "cell_type": "code",
   "execution_count": 37,
   "id": "48269cfd",
   "metadata": {},
   "outputs": [
    {
     "data": {
      "text/plain": [
       "43.0"
      ]
     },
     "execution_count": 37,
     "metadata": {},
     "output_type": "execute_result"
    }
   ],
   "source": [
    "data['10percentage'].min()"
   ]
  },
  {
   "cell_type": "code",
   "execution_count": 38,
   "id": "56d03a8b",
   "metadata": {},
   "outputs": [
    {
     "data": {
      "text/plain": [
       "97.76"
      ]
     },
     "execution_count": 38,
     "metadata": {},
     "output_type": "execute_result"
    }
   ],
   "source": [
    "data['10percentage'].max()"
   ]
  },
  {
   "cell_type": "code",
   "execution_count": 40,
   "id": "e47b97b7",
   "metadata": {},
   "outputs": [
    {
     "data": {
      "image/png": "[encoded data removed]",
      "text/plain": [
       "<Figure size 432x288 with 1 Axes>"
      ]
     },
     "metadata": {},
     "output_type": "display_data"
    }
   ],
   "source": [
    "data['10percentage'].plot(kind='hist');"
   ]
  },
  {
   "cell_type": "markdown",
   "id": "9d55600b",
   "metadata": {},
   "source": [
    "Maximum of the people scored between 80 to 90 percent in 10 th boards"
   ]
  },
  {
   "cell_type": "markdown",
   "id": "dfac7814",
   "metadata": {},
   "source": [
    "**12th Percentage**"
   ]
  },
  {
   "cell_type": "code",
   "execution_count": 41,
   "id": "2653adb7",
   "metadata": {},
   "outputs": [
    {
     "data": {
      "text/plain": [
       "40.0"
      ]
     },
     "execution_count": 41,
     "metadata": {},
     "output_type": "execute_result"
    }
   ],
   "source": [
    "data['12percentage'].min()"
   ]
  },
  {
   "cell_type": "code",
   "execution_count": 42,
   "id": "18c42936",
   "metadata": {},
   "outputs": [
    {
     "data": {
      "text/plain": [
       "98.7"
      ]
     },
     "execution_count": 42,
     "metadata": {},
     "output_type": "execute_result"
    }
   ],
   "source": [
    "data['12percentage'].max()"
   ]
  },
  {
   "cell_type": "code",
   "execution_count": 43,
   "id": "9ae71c44",
   "metadata": {},
   "outputs": [
    {
     "data": {
      "image/png": "[encoded data removed]",
      "text/plain": [
       "<Figure size 432x288 with 1 Axes>"
      ]
     },
     "metadata": {},
     "output_type": "display_data"
    }
   ],
   "source": [
    "data['12percentage'].plot(kind='hist');"
   ]
  },
  {
   "cell_type": "markdown",
   "id": "37e74ed4",
   "metadata": {},
   "source": [
    "Maximum of the people scored between 70 to 80 percent in 10 th boards"
   ]
  },
  {
   "cell_type": "markdown",
   "id": "965d9ec4",
   "metadata": {},
   "source": [
    "**12th Graduation Year**"
   ]
  },
  {
   "cell_type": "code",
   "execution_count": 44,
   "id": "72f4de65",
   "metadata": {},
   "outputs": [
    {
     "data": {
      "image/png": "[encoded data removed]",
      "text/plain": [
       "<Figure size 432x288 with 1 Axes>"
      ]
     },
     "metadata": {},
     "output_type": "display_data"
    }
   ],
   "source": [
    "data['12graduation'].value_counts().plot(kind=\"bar\");"
   ]
  },
  {
   "cell_type": "markdown",
   "id": "f1f2a4e5",
   "metadata": {},
   "source": [
    "We can see that the maximum of the people passed 12th in year 2009-2010."
   ]
  },
  {
   "cell_type": "markdown",
   "id": "07339b44",
   "metadata": {},
   "source": [
    "### Graduation"
   ]
  },
  {
   "cell_type": "code",
   "execution_count": 45,
   "id": "6b776c93",
   "metadata": {},
   "outputs": [
    {
     "data": {
      "text/plain": [
       "CollegeTier\n",
       "2    3701\n",
       "1     297\n",
       "Name: count, dtype: int64"
      ]
     },
     "execution_count": 45,
     "metadata": {},
     "output_type": "execute_result"
    }
   ],
   "source": [
    "data['CollegeTier'].value_counts()"
   ]
  },
  {
   "cell_type": "markdown",
   "id": "767d66a4",
   "metadata": {},
   "source": [
    "**Graduation Year**"
   ]
  },
  {
   "cell_type": "code",
   "execution_count": 46,
   "id": "44eed455",
   "metadata": {},
   "outputs": [
    {
     "data": {
      "image/png": "[encoded data removed]",
      "text/plain": [
       "<Figure size 432x288 with 1 Axes>"
      ]
     },
     "metadata": {},
     "output_type": "display_data"
    }
   ],
   "source": [
    "data['GraduationYear'].value_counts().plot(kind=\"bar\");"
   ]
  },
  {
   "cell_type": "markdown",
   "id": "12f8e365",
   "metadata": {},
   "source": [
    "Most of the people are graduated in year 2013-2014."
   ]
  },
  {
   "cell_type": "markdown",
   "id": "dac7bac9",
   "metadata": {},
   "source": [
    "**College CGPA**"
   ]
  },
  {
   "cell_type": "code",
   "execution_count": 47,
   "id": "71687a4d",
   "metadata": {},
   "outputs": [
    {
     "data": {
      "image/png": "[encoded data removed]",
      "text/plain": [
       "<Figure size 432x288 with 1 Axes>"
      ]
     },
     "metadata": {},
     "output_type": "display_data"
    }
   ],
   "source": [
    "data['collegeGPA'].plot(kind=\"hist\");"
   ]
  },
  {
   "cell_type": "markdown",
   "id": "f4a2190d",
   "metadata": {},
   "source": [
    "Most of the people have CGPA between 65 to 80."
   ]
  },
  {
   "cell_type": "markdown",
   "id": "cb44d2a1",
   "metadata": {},
   "source": [
    "### Marks scored in various subjects"
   ]
  },
  {
   "cell_type": "markdown",
   "id": "a0d2bc2b",
   "metadata": {},
   "source": [
    "**English**"
   ]
  },
  {
   "cell_type": "code",
   "execution_count": 49,
   "id": "3cc9dbe2",
   "metadata": {},
   "outputs": [
    {
     "data": {
      "image/png": "[encoded data removed]",
      "text/plain": [
       "<Figure size 432x288 with 1 Axes>"
      ]
     },
     "metadata": {},
     "output_type": "display_data"
    }
   ],
   "source": [
    "data['English'].plot(kind=\"hist\");"
   ]
  },
  {
   "cell_type": "markdown",
   "id": "df7451bc",
   "metadata": {},
   "source": [
    "**Logical**"
   ]
  },
  {
   "cell_type": "code",
   "execution_count": 50,
   "id": "70860d2a",
   "metadata": {},
   "outputs": [
    {
     "data": {
      "image/png": "[encoded data removed]",
      "text/plain": [
       "<Figure size 432x288 with 1 Axes>"
      ]
     },
     "metadata": {},
     "output_type": "display_data"
    }
   ],
   "source": [
    "data['Logical'].plot(kind=\"hist\");"
   ]
  },
  {
   "cell_type": "markdown",
   "id": "f04ff84a",
   "metadata": {},
   "source": [
    "**Quant**"
   ]
  },
  {
   "cell_type": "code",
   "execution_count": 52,
   "id": "42777887",
   "metadata": {},
   "outputs": [
    {
     "data": {
      "image/png": "[encoded data removed]",
      "text/plain": [
       "<Figure size 432x288 with 1 Axes>"
      ]
     },
     "metadata": {},
     "output_type": "display_data"
    }
   ],
   "source": [
    "data['Quant'].plot(kind=\"hist\");"
   ]
  },
  {
   "cell_type": "markdown",
   "id": "8365b94f",
   "metadata": {},
   "source": [
    "**Computer Programming**"
   ]
  },
  {
   "cell_type": "code",
   "execution_count": 56,
   "id": "dae08c40",
   "metadata": {},
   "outputs": [
    {
     "data": {
      "image/png": "[encoded data removed]",
      "text/plain": [
       "<Figure size 432x288 with 1 Axes>"
      ]
     },
     "metadata": {},
     "output_type": "display_data"
    }
   ],
   "source": [
    "data[data['ComputerProgramming']!=-1]['ComputerProgramming'].plot(kind=\"hist\");"
   ]
  },
  {
   "cell_type": "markdown",
   "id": "8863faad",
   "metadata": {},
   "source": [
    "**Electronics and Semicon**"
   ]
  },
  {
   "cell_type": "code",
   "execution_count": 57,
   "id": "1e7e6788",
   "metadata": {},
   "outputs": [
    {
     "data": {
      "image/png": "[encoded data removed]",
      "text/plain": [
       "<Figure size 432x288 with 1 Axes>"
      ]
     },
     "metadata": {},
     "output_type": "display_data"
    }
   ],
   "source": [
    "data[data['ElectronicsAndSemicon']!=-1]['ElectronicsAndSemicon'].plot(kind=\"hist\");"
   ]
  },
  {
   "cell_type": "markdown",
   "id": "f9e90414",
   "metadata": {},
   "source": [
    "**Computer science**"
   ]
  },
  {
   "cell_type": "code",
   "execution_count": 58,
   "id": "ef0a4176",
   "metadata": {},
   "outputs": [
    {
     "data": {
      "image/png": "[encoded data removed]",
      "text/plain": [
       "<Figure size 432x288 with 1 Axes>"
      ]
     },
     "metadata": {},
     "output_type": "display_data"
    }
   ],
   "source": [
    "data[data['ComputerScience']!=-1]['ComputerScience'].plot(kind=\"hist\");"
   ]
  },
  {
   "cell_type": "markdown",
   "id": "2466cc3d",
   "metadata": {},
   "source": [
    "**Mechanical Engineering**"
   ]
  },
  {
   "cell_type": "code",
   "execution_count": 59,
   "id": "b43dcb49",
   "metadata": {},
   "outputs": [
    {
     "data": {
      "image/png": "[encoded data removed]",
      "text/plain": [
       "<Figure size 432x288 with 1 Axes>"
      ]
     },
     "metadata": {},
     "output_type": "display_data"
    }
   ],
   "source": [
    "data[data['MechanicalEngg']!=-1]['MechanicalEngg'].plot(kind=\"hist\");"
   ]
  },
  {
   "cell_type": "markdown",
   "id": "046f038b",
   "metadata": {},
   "source": [
    "**Electrical Engineering**"
   ]
  },
  {
   "cell_type": "code",
   "execution_count": 60,
   "id": "172295dd",
   "metadata": {},
   "outputs": [
    {
     "data": {
      "image/png": "[encoded data removed]",
      "text/plain": [
       "<Figure size 432x288 with 1 Axes>"
      ]
     },
     "metadata": {},
     "output_type": "display_data"
    }
   ],
   "source": [
    "data[data['ElectricalEngg']!=-1]['ElectricalEngg'].plot(kind=\"hist\");"
   ]
  },
  {
   "cell_type": "markdown",
   "id": "d45d2a1d",
   "metadata": {},
   "source": [
    "**Telecom engineering**"
   ]
  },
  {
   "cell_type": "code",
   "execution_count": 61,
   "id": "288b31bb",
   "metadata": {},
   "outputs": [
    {
     "data": {
      "image/png": "[encoded data removed]",
      "text/plain": [
       "<Figure size 432x288 with 1 Axes>"
      ]
     },
     "metadata": {},
     "output_type": "display_data"
    }
   ],
   "source": [
    "data[data['TelecomEngg']!=-1]['TelecomEngg'].plot(kind=\"hist\");"
   ]
  },
  {
   "cell_type": "markdown",
   "id": "f1695d97",
   "metadata": {},
   "source": [
    "**Civil Engineering**"
   ]
  },
  {
   "cell_type": "code",
   "execution_count": 62,
   "id": "da4f94e4",
   "metadata": {},
   "outputs": [
    {
     "data": {
      "image/png": "[encoded data removed]",
      "text/plain": [
       "<Figure size 432x288 with 1 Axes>"
      ]
     },
     "metadata": {},
     "output_type": "display_data"
    }
   ],
   "source": [
    "data[data['CivilEngg']!=-1]['CivilEngg'].plot(kind=\"hist\");"
   ]
  },
  {
   "cell_type": "code",
   "execution_count": null,
   "id": "70e6f9f5",
   "metadata": {},
   "outputs": [],
   "source": []
  }
 ],
 "metadata": {
  "kernelspec": {
   "display_name": "Python 3 (ipykernel)",
   "language": "python",
   "name": "python3"
  },
  "language_info": {
   "codemirror_mode": {
    "name": "ipython",
    "version": 3
   },
   "file_extension": ".py",
   "mimetype": "text/x-python",
   "name": "python",
   "nbconvert_exporter": "python",
   "pygments_lexer": "ipython3",
   "version": "3.9.12"
  }
 },
 "nbformat": 4,
 "nbformat_minor": 5
}
